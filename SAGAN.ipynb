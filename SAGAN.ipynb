{
  "cells": [
    {
      "cell_type": "markdown",
      "metadata": {
        "id": "u_ETb0VLem61"
      },
      "source": [
        "# SAGAN\n",
        "\n",
        "Below implementation uses SAGAN with spectral norm and ttuf."
      ]
    },
    {
      "cell_type": "code",
      "execution_count": 3,
      "metadata": {
        "colab": {
          "base_uri": "https://localhost:8080/",
          "height": 0
        },
        "id": "d_L1cWbS4LKn",
        "outputId": "23bfc2c4-fd47-4328-97df-f646e58b190a"
      },
      "outputs": [
        {
          "name": "stdout",
          "output_type": "stream",
          "text": [
            "Requirement already satisfied: numpy in /usr/local/lib/python3.10/dist-packages (1.26.4)\n",
            "Requirement already satisfied: torch in /usr/local/lib/python3.10/dist-packages (2.4.0+cu121)\n",
            "Requirement already satisfied: torchvision in /usr/local/lib/python3.10/dist-packages (0.19.0+cu121)\n",
            "Requirement already satisfied: pillow in /usr/local/lib/python3.10/dist-packages (9.4.0)\n",
            "Requirement already satisfied: tqdm in /usr/local/lib/python3.10/dist-packages (4.66.5)\n",
            "Requirement already satisfied: tensorboard in /usr/local/lib/python3.10/dist-packages (2.17.0)\n",
            "Requirement already satisfied: pytorch_image_generation_metrics in /usr/local/lib/python3.10/dist-packages (0.6.1)\n",
            "Requirement already satisfied: filelock in /usr/local/lib/python3.10/dist-packages (from torch) (3.16.0)\n",
            "Requirement already satisfied: typing-extensions>=4.8.0 in /usr/local/lib/python3.10/dist-packages (from torch) (4.12.2)\n",
            "Requirement already satisfied: sympy in /usr/local/lib/python3.10/dist-packages (from torch) (1.13.2)\n",
            "Requirement already satisfied: networkx in /usr/local/lib/python3.10/dist-packages (from torch) (3.3)\n",
            "Requirement already satisfied: jinja2 in /usr/local/lib/python3.10/dist-packages (from torch) (3.1.4)\n",
            "Requirement already satisfied: fsspec in /usr/local/lib/python3.10/dist-packages (from torch) (2024.6.1)\n",
            "Requirement already satisfied: absl-py>=0.4 in /usr/local/lib/python3.10/dist-packages (from tensorboard) (1.4.0)\n",
            "Requirement already satisfied: grpcio>=1.48.2 in /usr/local/lib/python3.10/dist-packages (from tensorboard) (1.64.1)\n",
            "Requirement already satisfied: markdown>=2.6.8 in /usr/local/lib/python3.10/dist-packages (from tensorboard) (3.7)\n",
            "Requirement already satisfied: protobuf!=4.24.0,<5.0.0,>=3.19.6 in /usr/local/lib/python3.10/dist-packages (from tensorboard) (3.20.3)\n",
            "Requirement already satisfied: setuptools>=41.0.0 in /usr/local/lib/python3.10/dist-packages (from tensorboard) (71.0.4)\n",
            "Requirement already satisfied: six>1.9 in /usr/local/lib/python3.10/dist-packages (from tensorboard) (1.16.0)\n",
            "Requirement already satisfied: tensorboard-data-server<0.8.0,>=0.7.0 in /usr/local/lib/python3.10/dist-packages (from tensorboard) (0.7.2)\n",
            "Requirement already satisfied: werkzeug>=1.0.1 in /usr/local/lib/python3.10/dist-packages (from tensorboard) (3.0.4)\n",
            "Requirement already satisfied: MarkupSafe>=2.1.1 in /usr/local/lib/python3.10/dist-packages (from werkzeug>=1.0.1->tensorboard) (2.1.5)\n",
            "Requirement already satisfied: mpmath<1.4,>=1.1.0 in /usr/local/lib/python3.10/dist-packages (from sympy->torch) (1.3.0)\n"
          ]
        }
      ],
      "source": [
        "pip install numpy torch torchvision pillow tqdm tensorboard pytorch_image_generation_metrics"
      ]
    },
    {
      "cell_type": "code",
      "execution_count": 4,
      "metadata": {
        "id": "4sZUB-TK4YT0"
      },
      "outputs": [],
      "source": [
        "from torch.utils.data import DataLoader\n",
        "from torchvision import datasets, transforms\n",
        "\n",
        "\n",
        "def load_data(im_size, batch_size, workers, dataset, data_path):\n",
        "    transform = transforms.Compose([\n",
        "        transforms.Resize((im_size, im_size)),\n",
        "        transforms.ToTensor(),\n",
        "        transforms.Normalize((0.5, 0.5, 0.5), (0.5, 0.5, 0.5))\n",
        "    ])\n",
        "    if dataset == 'cifar10':\n",
        "        dataset = datasets.CIFAR10(data_path, train=True, transform=transform, download=True)\n",
        "    else:\n",
        "        assert False, f\"Unknwn dataset: {dataset}\"\n",
        "    dataloader = DataLoader(dataset=dataset,\n",
        "                            batch_size=batch_size,\n",
        "                            shuffle=True,\n",
        "                            num_workers=workers,\n",
        "                            drop_last=True,\n",
        "                            pin_memory=True)\n",
        "    return dataloader"
      ]
    },
    {
      "cell_type": "code",
      "execution_count": 5,
      "metadata": {
        "id": "T_Q1LQlRoD96"
      },
      "outputs": [],
      "source": [
        "from tqdm import trange\n",
        "def generate_imgs(net_G, device, z_dim=128, size=5000, batch_size=128):\n",
        "    net_G.eval()\n",
        "    imgs = []\n",
        "    with torch.no_grad():\n",
        "        for start in trange(0, size, batch_size,\n",
        "                            desc='Evaluating', ncols=0, leave=False):\n",
        "            end = min(start + batch_size, size)\n",
        "            z = torch.randn(end - start, z_dim).to(device)\n",
        "            imgs.append(net_G(z).cpu())\n",
        "    net_G.train()\n",
        "    imgs = torch.cat(imgs, dim=0)\n",
        "    imgs = (imgs + 1) / 2\n",
        "    return imgs"
      ]
    },
    {
      "cell_type": "code",
      "execution_count": 6,
      "metadata": {
        "id": "1Gh5FCm_4bkG"
      },
      "outputs": [],
      "source": [
        "import torch\n",
        "import numpy as np\n",
        "import torch.nn as nn\n",
        "\n",
        "\n",
        "class Self_Attn(nn.Module):\n",
        "    ''' Self attention Layer '''\n",
        "    def __init__(self, in_channels, activation):\n",
        "        super(Self_Attn, self).__init__()\n",
        "        self.query_conv = nn.Conv2d(in_channels, in_channels//8, 1)\n",
        "        self.key_conv = nn.Conv2d(in_channels, in_channels//8, 1)\n",
        "        self.value_conv = nn.Conv2d(in_channels, in_channels, 1)\n",
        "        self.gamma = nn.Parameter(torch.zeros(1))\n",
        "        self.softmax = nn.Softmax(dim=-1)\n",
        "\n",
        "    def forward(self, x):\n",
        "        '''\n",
        "            inputs:\n",
        "                x: input feature maps (B x C x W x H)\n",
        "            returns:\n",
        "                out: self attention value + input feature\n",
        "                attention: B x N x N (N is width * height)\n",
        "        '''\n",
        "        B, C, W, H = x.size()\n",
        "        proj_query = self.query_conv(x).view(B, -1, W * H).permute(0, 2, 1) # B x N x C\n",
        "        proj_key = self.key_conv(x).view(B, -1, W * H) # B X C x N\n",
        "        energy = torch.bmm(proj_query, proj_key) # transpose check\n",
        "        attention = self.softmax(energy) # B x N x N\n",
        "        proj_value = self.value_conv(x).view(B, -1, W * H) # B x C x N\n",
        "        out = torch.bmm(proj_value, attention.permute(0, 2, 1)) # B x C x N\n",
        "        out = out.view(B, C, W, H)\n",
        "        out = self.gamma * out + x\n",
        "        return out, attention\n",
        "\n",
        "\n",
        "class Generator(nn.Module):\n",
        "    ''' Generator '''\n",
        "    def __init__(self, batch_size, im_size=64, z_dim=100, conv_dim=64, adv_loss='hinge'):\n",
        "        super(Generator, self).__init__()\n",
        "        self.im_size = im_size\n",
        "        Normalization = SpectralNorm if adv_loss == 'hinge' else lambda x: x\n",
        "        layer1 = []\n",
        "        layer2 = []\n",
        "        layer3 = []\n",
        "        last = []\n",
        "\n",
        "        repeat_num = int(np.log2(self.im_size)) - 2\n",
        "        mult = 2 ** repeat_num # 8\n",
        "        layer1.append(Normalization(nn.ConvTranspose2d(z_dim, conv_dim * mult, 4)))\n",
        "        layer1.append(nn.BatchNorm2d(conv_dim * mult))\n",
        "        layer1.append(nn.ReLU())\n",
        "\n",
        "        curr_dim = conv_dim * mult # 512\n",
        "        layer2.append(Normalization(nn.ConvTranspose2d(curr_dim, int(curr_dim / 2), 4, 2, 1)))\n",
        "        layer2.append(nn.BatchNorm2d(int(curr_dim / 2)))\n",
        "        layer2.append(nn.ReLU())\n",
        "\n",
        "        curr_dim = int(curr_dim / 2) # 256\n",
        "        layer3.append(Normalization(nn.ConvTranspose2d(curr_dim, int(curr_dim / 2), 4, 2, 1)))\n",
        "        layer3.append(nn.BatchNorm2d(int(curr_dim / 2)))\n",
        "        layer3.append(nn.ReLU())\n",
        "\n",
        "        self.l1 = nn.Sequential(*layer1)\n",
        "        self.l2 = nn.Sequential(*layer2)\n",
        "        self.l3 = nn.Sequential(*layer3)\n",
        "\n",
        "        if self.im_size == 64:\n",
        "            layer4 = []\n",
        "            curr_dim = int(curr_dim / 2)\n",
        "            layer4.append(Normalization(nn.ConvTranspose2d(curr_dim, int(curr_dim / 2), 4, 2, 1)))\n",
        "            layer4.append(nn.BatchNorm2d(int(curr_dim / 2)))\n",
        "            layer4.append(nn.ReLU())\n",
        "            self.l4 = nn.Sequential(*layer4)\n",
        "\n",
        "        curr_dim = int(curr_dim / 2) # 128\n",
        "        last.append(nn.ConvTranspose2d(curr_dim, 3, 4, 2, 1))\n",
        "        last.append(nn.Tanh())\n",
        "        self.last = nn.Sequential(*last)\n",
        "\n",
        "        self.attn1 = Self_Attn(128, 'relu')\n",
        "        self.attn2 = Self_Attn(64, 'relu')\n",
        "\n",
        "    def forward(self, z):\n",
        "        z = z.view(z.size(0), z.size(1), 1, 1)\n",
        "        out = self.l1(z)\n",
        "        out = self.l2(out)\n",
        "        out = self.l3(out)\n",
        "        out, p1 = self.attn1(out)\n",
        "        if self.im_size == 64:\n",
        "            out = self.l4(out)\n",
        "            out, p2 = self.attn2(out)\n",
        "        out = self.last(out)\n",
        "        return out\n",
        "\n",
        "\n",
        "class Discriminator(nn.Module):\n",
        "    ''' Discriminator '''\n",
        "\n",
        "    def __init__(self, batch_size=64, im_size=64, conv_dim=64, adv_loss='hinge'):\n",
        "        super(Discriminator, self).__init__()\n",
        "        self.im_size = im_size\n",
        "        Normalization = SpectralNorm if adv_loss == 'hinge' else lambda x: x\n",
        "        layer1 = []\n",
        "        layer2 = []\n",
        "        layer3 = []\n",
        "        last = []\n",
        "\n",
        "        layer1.append(Normalization(nn.Conv2d(3, conv_dim, 4, 2, 1)))\n",
        "        layer1.append(nn.LeakyReLU(0.1))\n",
        "        curr_dim = conv_dim\n",
        "\n",
        "        layer2.append(Normalization(nn.Conv2d(curr_dim, curr_dim * 2, 4, 2, 1)))\n",
        "        layer2.append(nn.LeakyReLU(0.1))\n",
        "        curr_dim = curr_dim * 2\n",
        "\n",
        "        layer3.append(Normalization(nn.Conv2d(curr_dim, curr_dim * 2, 4, 2, 1)))\n",
        "        layer3.append(nn.LeakyReLU(0.1))\n",
        "        curr_dim = curr_dim * 2\n",
        "\n",
        "        self.l1 = nn.Sequential(*layer1)\n",
        "        self.l2 = nn.Sequential(*layer2)\n",
        "        self.l3 = nn.Sequential(*layer3)\n",
        "\n",
        "        if self.im_size == 64:\n",
        "            layer4 = []\n",
        "            layer4.append(Normalization(nn.Conv2d(curr_dim, curr_dim * 2, 4, 2, 1)))\n",
        "            layer4.append(nn.LeakyReLU(0.1))\n",
        "            self.l4 = nn.Sequential(*layer4)\n",
        "            curr_dim = curr_dim * 2\n",
        "\n",
        "        last.append(nn.Conv2d(curr_dim, 1, 4))\n",
        "        self.last = nn.Sequential(*last)\n",
        "\n",
        "        self.attn1 = Self_Attn(256, 'relu')\n",
        "        self.attn2 = Self_Attn(512, 'relu')\n",
        "\n",
        "    def forward(self, x):\n",
        "        out = self.l1(x)\n",
        "        out = self.l2(out)\n",
        "        out = self.l3(out)\n",
        "        out, p1 = self.attn1(out)\n",
        "        if self.im_size == 64:\n",
        "            out = self.l4(out)\n",
        "            out, p2 = self.attn2(out)\n",
        "        out = self.last(out)\n",
        "        return out.squeeze()"
      ]
    },
    {
      "cell_type": "code",
      "execution_count": 7,
      "metadata": {
        "id": "8zkML4La4e8r"
      },
      "outputs": [],
      "source": [
        "import torch\n",
        "import torch.nn as nn\n",
        "\n",
        "\n",
        "class SAGAN_Trainer:\n",
        "\n",
        "    def __init__(self, args):\n",
        "        self.args = args\n",
        "        self._build_model()\n",
        "\n",
        "    def _build_model(self):\n",
        "        self.G = Generator(self.args.batch_size, self.args.im_size, self.args.z_dim, self.args.g_conv_dim, self.args.adv_loss)\n",
        "        self.D = Discriminator(self.args.batch_size, self.args.im_size, self.args.d_conv_dim, self.args.adv_loss)\n",
        "        self.G.to(self.args.device)\n",
        "        self.D.to(self.args.device)\n",
        "        if self.args.parallel:\n",
        "            self.G = nn.DataParallel(self.G)\n",
        "            self.D = nn.DataParallel(self.D)\n",
        "        _G_params = filter(lambda p: p.requires_grad, self.G.parameters())\n",
        "        _D_params = filter(lambda p: p.requires_grad, self.D.parameters())\n",
        "        self.g_optimizer = torch.optim.Adam(_G_params, self.args.g_lr, [self.args.beta1, self.args.beta2])\n",
        "        self.d_optimizer = torch.optim.Adam(_D_params, self.args.d_lr, [self.args.beta1, self.args.beta2])\n",
        "        self.c_loss = nn.CrossEntropyLoss()\n",
        "\n",
        "    def train(self, real_images):\n",
        "        ''' train discriminator '''\n",
        "        d_out_real = self.D(real_images)\n",
        "        ''' compute loss with real images '''\n",
        "        if self.args.adv_loss == 'wgan-gp':\n",
        "            d_loss_real = -1 * torch.mean(d_out_real)\n",
        "        elif self.args.adv_loss == 'hinge':\n",
        "            d_loss_real = torch.nn.ReLU()(1.0 - d_out_real).mean()\n",
        "        ''' apply Gumbel Softmax '''\n",
        "        z = torch.randn(real_images.size(0), self.args.z_dim).to(self.args.device)\n",
        "        fake_images = self.G(z)\n",
        "        d_out_fake = self.D(fake_images)\n",
        "        ''' compute loss with fake images '''\n",
        "        if self.args.adv_loss == 'wgan-gp':\n",
        "            d_loss_fake = d_out_fake.mean()\n",
        "        elif self.args.adv_loss == 'hinge':\n",
        "            d_loss_fake = torch.nn.ReLU()(1.0 + d_out_fake).mean()\n",
        "        ''' update discriminator '''\n",
        "        d_loss = d_loss_real + d_loss_fake\n",
        "        self.d_optimizer.zero_grad()\n",
        "        d_loss.backward()\n",
        "        self.d_optimizer.step()\n",
        "        if self.args.adv_loss == 'wgan-gp':\n",
        "            ''' compute gradient penalty '''\n",
        "            alpha = torch.rand(real_images.size(0), 1, 1, 1).to(self.args.device)\n",
        "            interpolated = alpha * real_images.data + (1 - alpha) * fake_images.data\n",
        "            interpolated.requires_grad_(True)\n",
        "            d_out_itp = self.D(interpolated)\n",
        "            grad = torch.autograd.grad(outputs=d_out_itp,\n",
        "                                       inputs=interpolated,\n",
        "                                       grad_outputs=torch.ones(d_out_itp.size()).to(self.args.device),\n",
        "                                       retain_graph=True,\n",
        "                                       create_graph=True,\n",
        "                                       only_inputs=True)[0]\n",
        "            grad_norm = grad.view(grad.size(0), -1).norm(dim=1)\n",
        "            d_loss_gp = torch.mean((grad_norm - 1) ** 2)\n",
        "            ''' optimize gradient penalty '''\n",
        "            d_loss = self.args.lambda_gp * d_loss_gp\n",
        "            self.d_optimizer.zero_grad()\n",
        "            d_loss.backward()\n",
        "            self.d_optimizer.step()\n",
        "        ''' train generator '''\n",
        "        z = torch.randn(real_images.size(0), self.args.z_dim).to(self.args.device)\n",
        "        fake_images = self.G(z)\n",
        "        g_out_fake = self.D(fake_images)\n",
        "        ''' compute loss with fake images '''\n",
        "        g_loss_fake = -1 * g_out_fake.mean()\n",
        "        self.g_optimizer.zero_grad()\n",
        "        g_loss_fake.backward()\n",
        "        self.g_optimizer.step()\n",
        "        return d_loss_real.item(), d_loss_fake.item(), g_loss_fake.item()"
      ]
    },
    {
      "cell_type": "code",
      "execution_count": 8,
      "metadata": {
        "id": "drcO4W4Z4iGe"
      },
      "outputs": [],
      "source": [
        "import torch\n",
        "from torch import nn\n",
        "from torchvision.models.inception import inception_v3\n",
        "\n",
        "\n",
        "class Scorer:\n",
        "\n",
        "    def __init__(self, device, resize=True):\n",
        "        self.resize = resize\n",
        "        self.inception_model = inception_v3(pretrained=True, transform_input=False)\n",
        "        self.inception_model.to(device)\n",
        "        self.inception_model.eval()\n",
        "        if self.resize:\n",
        "            self.upsample = nn.Upsample(size=(299, 299), mode='bilinear', align_corners=True)\n",
        "        self.softmax = nn.Softmax(dim=-1)\n",
        "\n",
        "    @torch.no_grad()\n",
        "    def get_preds(self, samples):\n",
        "        mean = samples.new_tensor((0.485, 0.456, 0.406)).view(1, -1, 1, 1)\n",
        "        std = samples.new_tensor((0.229, 0.224, 0.225)).view(1, -1, 1, 1)\n",
        "        samples = (samples - mean) / std\n",
        "        samples = self.upsample(samples) if self.resize else samples\n",
        "        return self.softmax(self.inception_model(samples)).detach()\n",
        "\n",
        "    @torch.no_grad()\n",
        "    def compute_score(self, preds, splits=10):\n",
        "        scores = list()\n",
        "        total_num = preds.size(0)\n",
        "        for k in range(splits):\n",
        "            part = preds[k * (total_num//splits): (k+1) * (total_num//splits), :]\n",
        "            kl = part * (part.log() - part.mean(dim=0, keepdim=True).log())\n",
        "            scores.append(kl.sum(dim=1).mean().exp())\n",
        "        scores = torch.stack(scores, dim=0)\n",
        "        inception_score = torch.mean(scores).item()\n",
        "        std = torch.std(scores).item()\n",
        "        return inception_score, std"
      ]
    },
    {
      "cell_type": "code",
      "execution_count": 9,
      "metadata": {
        "id": "U-ObJ1Sm4jz-"
      },
      "outputs": [],
      "source": [
        "import torch\n",
        "import torch.nn as nn\n",
        "\n",
        "\n",
        "class SpectralNorm(nn.Module):\n",
        "\n",
        "    def __init__(self, module, name='weight'):\n",
        "        super(SpectralNorm, self).__init__()\n",
        "        self.module = module\n",
        "        self.name = name\n",
        "        if not hasattr(self.module, self.name + '_bar'):\n",
        "            self._make_params()\n",
        "\n",
        "    def _update_u_v(self):\n",
        "        u = getattr(self.module, self.name + '_u')\n",
        "        v = getattr(self.module, self.name + '_v')\n",
        "        w = getattr(self.module, self.name + '_bar')\n",
        "        height = w.size(0)\n",
        "        with torch.no_grad():\n",
        "            v = self._l2normalize(w.view(height, -1).transpose(0, 1).mv(u))\n",
        "            u = self._l2normalize(w.view(height, -1).mv(v))\n",
        "        sigma = u.dot(w.view(height, -1).mv(v))\n",
        "        setattr(self.module, self.name, w / sigma.expand_as(w))\n",
        "\n",
        "    def _make_params(self):\n",
        "        w = getattr(self.module, self.name)\n",
        "        height = w.size(0)\n",
        "        width = w.view(height, -1).size(1)\n",
        "        u = nn.Parameter(self._l2normalize(w.new_empty(height).normal_(0, 1)), requires_grad=False)\n",
        "        v = nn.Parameter(self._l2normalize(w.new_empty(width).normal_(0, 1)), requires_grad=False)\n",
        "        w_bar = nn.Parameter(w.data)\n",
        "        del self.module._parameters[self.name]\n",
        "        self.module.register_parameter(self.name + '_u', u)\n",
        "        self.module.register_parameter(self.name + '_v', v)\n",
        "        self.module.register_parameter(self.name + '_bar', w_bar)\n",
        "\n",
        "    def forward(self, *args, **kwargs):\n",
        "        self._update_u_v()\n",
        "        return self.module.forward(*args, **kwargs)\n",
        "\n",
        "    @staticmethod\n",
        "    def _l2normalize(v, eps=1e-12):\n",
        "        return v / (v.norm() + eps)"
      ]
    },
    {
      "cell_type": "code",
      "execution_count": 10,
      "metadata": {
        "id": "NCnD4zl34nOS"
      },
      "outputs": [],
      "source": [
        "import os\n",
        "import time\n",
        "import torch\n",
        "import random\n",
        "from tqdm import tqdm\n",
        "from torchvision.utils import save_image\n",
        "from torch.utils.tensorboard import SummaryWriter\n",
        "from pytorch_image_generation_metrics import get_inception_score_and_fid\n",
        "\n",
        "class Instructor:\n",
        "\n",
        "    def __init__(self, dataset='cifar10', data_dir='data', sample_dir='sample', save_dir='saves', num_workers=16,\n",
        "                 im_size=32, z_dim=128, g_conv_dim=64, d_conv_dim=64, total_step=20000, batch_size=64, g_lr=0.0001,\n",
        "                 d_lr=0.0004, beta1=0.0, beta2=0.9, lambda_gp=10, adv_loss='hinge', device=None, parallel=False,\n",
        "                 log_step=20, sample_step=200, eval_step=500, model_save_step=10, sample_num=100, timestamp=None, num_images = 50000):\n",
        "\n",
        "        # Assign all argument values to class variables\n",
        "        self.dataset = dataset\n",
        "        self.data_dir = data_dir\n",
        "        self.sample_dir = sample_dir\n",
        "        self.save_dir = save_dir\n",
        "        self.num_workers = num_workers\n",
        "        self.im_size = im_size\n",
        "        self.z_dim = z_dim\n",
        "        self.g_conv_dim = g_conv_dim\n",
        "        self.d_conv_dim = d_conv_dim\n",
        "        self.total_step = total_step\n",
        "        self.batch_size = batch_size\n",
        "        # ttuf\n",
        "        self.g_lr = g_lr\n",
        "        self.d_lr = d_lr\n",
        "\n",
        "\n",
        "        self.beta1 = beta1\n",
        "        self.beta2 = beta2\n",
        "        self.lambda_gp = lambda_gp\n",
        "        self.adv_loss = adv_loss\n",
        "        self.device = torch.device(device if device else 'cuda' if torch.cuda.is_available() else 'cpu')\n",
        "        self.parallel = parallel\n",
        "        self.log_step = log_step\n",
        "        self.sample_step = sample_step\n",
        "        self.eval_step = eval_step\n",
        "        self.model_save_step = model_save_step\n",
        "        self.sample_num = sample_num\n",
        "        self.timestamp = timestamp if timestamp else str(int(time.time())) + format(random.randint(0, 999), '03')\n",
        "        self.num_images = num_images\n",
        "        self.fid_cache = './stats/cifar10.train.npz'  # FID cache\n",
        "        self.fid_scores = []\n",
        "        self.inception_scores = []\n",
        "        # Create directories\n",
        "        # Ensure directories exist\n",
        "        for dir_name in [self.data_dir, self.sample_dir, self.save_dir]:\n",
        "            if not os.path.exists(dir_name):\n",
        "                os.mkdir(dir_name)\n",
        "        os.mkdir(os.path.join(self.sample_dir, self.timestamp))\n",
        "        os.mkdir(os.path.join(self.save_dir, self.timestamp))\n",
        "\n",
        "        # Set environment settings\n",
        "        os.environ['TF_CPP_MIN_LOG_LEVEL'] = '3'\n",
        "        torch.backends.cudnn.benchmark = True\n",
        "\n",
        "        self._print_args()\n",
        "\n",
        "    def _print_args(self):\n",
        "        print('TRAINING ARGUMENTS:')\n",
        "        for key, value in vars(self).items():\n",
        "            print(f\">>> {key}: {value}\")\n",
        "    def get_FID(self):\n",
        "      return self.fid_scores;\n",
        "    def get_IS(self):\n",
        "      return self.inception_scores;\n",
        "\n",
        "    def train_sagan(self):\n",
        "        print('=> creating model...')\n",
        "        trainer = SAGAN_Trainer(self)\n",
        "        writer = SummaryWriter()\n",
        "        print('=> creating scorer...')\n",
        "        scorer = Scorer(device=self.device, resize=True)\n",
        "        print('=> loading data...')\n",
        "        dataloader = load_data(im_size=self.im_size,\n",
        "                               batch_size=self.batch_size,\n",
        "                               workers=self.num_workers,\n",
        "                               dataset=self.dataset,\n",
        "                               data_path=os.path.join(self.data_dir, self.dataset))\n",
        "        data_iter = iter(dataloader)\n",
        "        model_save_step = int(self.model_save_step * len(dataloader))\n",
        "        fixed_z = torch.randn(self.batch_size, self.z_dim).to(self.device)\n",
        "        real_images, _ = next(data_iter)\n",
        "        real_images = (real_images * 0.5 + 0.5).clamp(0, 1)\n",
        "        writer.add_images('real', real_images, 0)\n",
        "        save_image(real_images, os.path.join(self.sample_dir, self.timestamp, 'real.png'))\n",
        "        all_preds = list()\n",
        "        for inputs, _ in tqdm(dataloader):\n",
        "            inputs = inputs.to(self.device) * 0.5 + 0.5\n",
        "            all_preds.append(scorer.get_preds(inputs))\n",
        "        score, _ = scorer.compute_score(torch.cat(all_preds, dim=0), splits=10)\n",
        "        print(f\"real inception score: {score:.4f}\")\n",
        "        best_score = 0\n",
        "\n",
        "        for step in range(self.total_step):\n",
        "            ''' train sagan model '''\n",
        "            trainer.D.train()\n",
        "            trainer.G.train()\n",
        "            try:\n",
        "                real_images, _ = next(data_iter)\n",
        "            except StopIteration:\n",
        "                data_iter = iter(dataloader)\n",
        "                real_images, _ = next(data_iter)\n",
        "            real_images = real_images.to(self.device)\n",
        "            d_loss_real, d_loss_fake, g_loss_fake = trainer.train(real_images)\n",
        "            ''' print info '''\n",
        "            if (step + 1) % self.log_step == 0:\n",
        "                print(f\"step: {step + 1}/{self.total_step}, g_loss_fake: {g_loss_fake:.4f}\")\n",
        "                writer.add_scalar('Loss/D_real', d_loss_real, step + 1)\n",
        "                writer.add_scalar('Loss/D_fake', d_loss_fake, step + 1)\n",
        "                writer.add_scalar('Loss/G_fake', g_loss_fake, step + 1)\n",
        "                writer.add_scalar('Score/G_attn1', trainer.G.attn1.gamma.mean().item(), step + 1)\n",
        "                writer.add_scalar('Score/D_attn1', trainer.D.attn1.gamma.mean().item(), step + 1)\n",
        "            ''' compute inception score '''\n",
        "            if (step + 1) % self.eval_step == 0:\n",
        "                trainer.G.eval()\n",
        "                all_preds = list()\n",
        "                for _ in tqdm(range(self.sample_num)):\n",
        "                    z = torch.randn(self.batch_size, self.z_dim).to(self.device)\n",
        "                    inputs = trainer.G(z) * 0.5 + 0.5\n",
        "                    all_preds.append(scorer.get_preds(inputs))\n",
        "                score, _ = scorer.compute_score(torch.cat(all_preds, dim=0), splits=10)\n",
        "                best_score = max(score, best_score)\n",
        "                print(f\"fake inception score: {score:.4f}\")\n",
        "                writer.add_scalar('Score/IS_fake', score, step + 1)\n",
        "                imgs = generate_imgs(\n",
        "                        trainer.G, self.device, self.z_dim,\n",
        "                        self.num_images, self.batch_size)\n",
        "\n",
        "\n",
        "                IS, FID = get_inception_score_and_fid(\n",
        "                        imgs, self.fid_cache, verbose=True)\n",
        "                self.fid_scores.append([step, FID])\n",
        "                self.inception_scores.append([step, IS[0]])\n",
        "                print(\n",
        "                        \"%s/%s Inception Score: %.3f(%.5f), \"\n",
        "                        \"FID: %6.3f\" % (\n",
        "                            step, self.total_step, IS[0], IS[1], FID))\n",
        "                writer.add_scalar('Inception_Score', IS[0], step)\n",
        "                writer.add_scalar('Inception_Score_std', IS[1], step)\n",
        "                writer.add_scalar('FID', FID, step)\n",
        "            ''' sample image '''\n",
        "            if (step + 1) % self.sample_step == 0:\n",
        "                trainer.G.eval()\n",
        "                fake_images = trainer.G(fixed_z)\n",
        "                fake_images = (fake_images * 0.5 + 0.5).clamp(0, 1)\n",
        "                writer.add_images('fake', fake_images, step + 1)\n",
        "                save_image(fake_images, os.path.join(self.sample_dir, self.timestamp, f\"fake_{step + 1}.png\"))\n",
        "            ''' save model '''\n",
        "            if (step + 1) % model_save_step == 0:\n",
        "                torch.save(trainer.G.state_dict(), os.path.join(self.save_dir, self.timestamp, f\"{step + 1}_G.pt\"))\n",
        "                torch.save(trainer.D.state_dict(), os.path.join(self.save_dir, self.timestamp, f\"{step + 1}_D.pt\"))\n",
        "        writer.close()\n",
        "        print(f\"best inception score: {best_score:.4f}\")\n",
        "\n",
        "\n",
        "\n"
      ]
    },
    {
      "cell_type": "code",
      "execution_count": 11,
      "metadata": {
        "colab": {
          "base_uri": "https://localhost:8080/",
          "height": 20381,
          "referenced_widgets": [
            "3914588e322d491caadb4d4a003c2ea8",
            "d011d2e8306341839dbe2a1320162efc",
            "179797b135224c30a598042075948372",
            "50e8e6a4bf684272b66aa2e47e47b8d1",
            "84c580ab671d4d3bb8c8265266cc3902",
            "cbe464818c1a465c989f09e9fef59c3a",
            "1ff655214bfb4f99a31e5b0822224177",
            "40993d83bae14f31a84c6452ca1b638e",
            "1d0f98813a2a415fad2b9649e4383569",
            "0a4a015e6a1744d19cdc1732777a28b2",
            "a606225a91ae4e5ab2df807504fdf271",
            "d2da247c0b24492ca8b43a7c2a8bed2e",
            "54426a51b7254ba189cd2755bcbe8374",
            "0360970494d54450acac02ff76816f48",
            "710b5ffa2d1c44fe933470376b134107",
            "5a0396af1e7b4eedb320b765eab06bed",
            "bb3ea436b694497fba35b326c98adbf2",
            "9fdcebc5dba346c38978467d5c12d2d3",
            "980a16b8950a41f7ae658a220278cdfb",
            "c4cdf531f4644532b2e59f7bb5ba5a6f",
            "9e59138050134be1a3f58a13403b23a2",
            "5a959bc5705f432c9c9dc4d14b97da54",
            "38de381b6dc54b05b946e589bf9364df",
            "7e494506bb2b4960af14a8b49d64909d",
            "c50f36380414484ea96be85b6376d1ad",
            "a25abb620ee84c71934e9112af400732",
            "bddeb29ad8e14560afd0a84e3c6e40f0",
            "41f3bb720a7b454dbc8e6afb681fa698",
            "359dfcfd9ab14fdea4f73bbe3d022c26",
            "a485ddae006e42e5a790514a4219e88b",
            "e97fbcc1d4c04fcdb99a65fec78fd8ed",
            "3d6c8028df864e36b9b6ecf8eaef7003",
            "14f2b3b456844e9981224b39743e2284",
            "aa38aad0ca784a08937e9295563f3920",
            "361887774ecb415693e39eb83fe85fc9",
            "f683ca1739e84d30a92abb4d6004ece1",
            "00781f227e0447939df13dad9ab6e21b",
            "f661bd647e134223a48508f04c11c9ca",
            "a6ee61b944eb4f4da9c77cd51df1e940",
            "a04ec4ecd2c043619d61ff31f246aa14",
            "dafcb53e368c4d0391da8cae0a696be5",
            "428b5bbd7b374e6daa72bf5fe7ac1143",
            "6c8c99e4f3414705a833657b2a37aaa5",
            "7b6af6cfcfdc4634852189908afac20e",
            "d03375e25214427cab428075e0befb2c",
            "83179a9fd63a4d049fdf97ad028eb469",
            "c4300d24cead4afd95584c680f878041",
            "5930272a671a427dbdd74f37b12aa8ad",
            "3e817c7046234c6ab85379a2e1a7096e",
            "86eb195baaa74006bdbdf8d0ac9b7aea",
            "89d786a4b193434195f4c3d25b63ffef",
            "1220616bf6d342fc8151854e3b0d3310",
            "c223b345769f44d5a8d16c143cdbcc2d",
            "ad0ba5f8afab43419a2bf1d99f1ee510",
            "3c259913275c4e4680473cdd6bb2418b",
            "bcd743635a824602a99dad46fc4f57df",
            "3ea22fd9f8d049f594fcd9b7ab9ddd6e",
            "f2cfd069a9cd4f819a6f9167a020ff24",
            "5433f1375be4452db032c74a48865bb4",
            "b2e1f191d6b84cf0bacc4ff4767947d9",
            "546adf71133641f2a5144d904f6aebf7",
            "4f24d83126674bbfbb3b9735bb07631d",
            "4defdbc363174ac38fe48281b5a4e517",
            "bcf01d2716af4fc69e7aa5c269cb0d6a",
            "f15275c6e8634bd58ec0288a0cd3776b",
            "167493b6e73a4092ba363a11c70b8cf6",
            "5615e03805eb4d29bbdce0aec239fbc8",
            "1ed9c6cebdc74db1ab22833b0007a7d2",
            "6f00a58c141f4912b40946a76bcdf07d",
            "2d901b5b9b9a413d904467c2dcbb2167",
            "899c8092bbe449b8ad1c50f3aaadfbe9",
            "fdc39957d4ac4a629519855c1166c775",
            "b00560919884408587032b173b5e0cd5",
            "8b1ac2a12aec42a7ae6654074d3f5ad2",
            "e7f839157cce4c4ba00192a1add5f8f3",
            "6b92db16826e451d95cf1b0058dc1822",
            "fa8bb4d3696c4ff38e1366a7f2ce7e9c",
            "4300bd11185841a68b33667a0c9adcf1",
            "1ff23d342add4f1e80015122e51c5392",
            "26cd8c6034e8443bb39340b0c7ab1d59",
            "04379f05dc914aa89cf88961f338b679",
            "d81a8c76b9f3421f9f3adc2efdc0ec33",
            "57c60afd6a39455a8d64c3f4a55e0454",
            "0fd99c4c3582497897fcdcb90679077e",
            "4c5de45800194de4a2035e6ef75daa42",
            "32ac1a25d4554b679b8f8ec65bf2f22c",
            "b22a8ba89e6e4c0ab0291cc94e8dda7f",
            "060a0e28e99641de8d8a26153969faac",
            "d55e465ee11f46c0961d603cbdf86646",
            "32700c78633345fcabaeba1663a56fe6",
            "a933bc5421ef4e3b81c5752189449616",
            "78a4c4b516804b2b94c1436c8c0ac595",
            "385fbaf9f9b64e8183b88d8332814ef2",
            "6ab790ff7efc4f8f9509c1e300f511f4",
            "2e99278f002042aba6bdd663508c613f",
            "d33f08c73e404ecbbeb09a397a544faf",
            "6f62d4149dd14875867afd36eb32f0e0",
            "14c7da3556b4435bbe2ced84e1930503",
            "cb7d164592ff4c7aa17b970342a3cc78",
            "805760b5f94e452886681a86e677ad6b",
            "94749a361a8843b892aec88c993f5222",
            "275a07a9f8db4559b69ba351ab80bd29",
            "5417b4cbfaa84df39ec1aa5c1b4b83a0",
            "b12f8df7dd9341e7b3e5830caf21e5db",
            "c977d299efcf481ca251c215fc0ed06f",
            "5645e4f07e2941788d8b50abc3ddb5ee",
            "b0763ab323444e99a180686d1fa5b6f7",
            "0afb692d87354226a889befc25abe4eb",
            "04b86bc512f64bd4a787526a87e646f4",
            "614e5433d1b04b0eb920f5757b38b23a",
            "cb8e5543f41f49c5af2e659758fc7b81",
            "e36b66dbfd6549f0a5131c78025e7434",
            "5c4e76efb44b4d3189b395e60a0b9bf5",
            "f494259ce5294a14abd06a3dfcc7f5a0",
            "caef8177014545d6b68324b7b1f1af40",
            "98d5c809b07649f1bd433744e2282096",
            "febb67497c8b4ba899e9ac6c7b018820",
            "2f154cc6570e4be7a54a5e100f0a286f",
            "2954a016a6784c309c52ee57c82d9b92",
            "9646c8aa0ae14560bbf415a55179cc0d",
            "e48996750d29457ea6ee38e3362a59aa",
            "662b25fa88e644a392b039fc4da1d91a",
            "0b3c9020bab04056af0396cc1eae6327",
            "3aa32af4a9e44eaaa968b273dca7aacf",
            "7d78bc48014b4bfaa703790e8afb809e",
            "cb86e5ed321c461db0a0cf01aa259075",
            "d48cd69bbb454301ae3252d0c4608fc6",
            "8f74985958654baab6da1803157155d6",
            "cc4632363b5543259d47cc68c0879f04",
            "d73e3fe89ead41188c63ab138e7dfff0",
            "c3f53ff68c034a708fec4a194d10c58b",
            "81f56cc1d57946dcb88cf4a9c209dcdc",
            "774baadaa7074f5b9e0ded253ab3e424",
            "a19801b6682c40aaa101f413e2260296",
            "60978ff783c34ae186dbd6af0bc3566e",
            "de636292a15344cc81347c7c9aa3003c",
            "a702f0ace0e54f298c5e025cdc67d76a",
            "1ee30433fe414b7e8de13250445c35f0",
            "a4256d26395f4de990a2649b18af1fe3",
            "250b872fd427426ca8d8e070007174cf",
            "674c746afc2841d1ae0e889395877d98",
            "e02022fec2094f0d8a3697ffa22fa31b",
            "22320c36dcab4c14b9fbcce54367d583",
            "c8ba00799fa744fbbb33d73039fe9fc3",
            "de8c13a1296043c6a3f3448b9161a0f0",
            "6614db280bc54f86825c84d6b87f365a",
            "a35f319aad604a10b0e541462318f6ff",
            "54121387b8d540d5affa45470a1913a5",
            "28e83744cafb4c15a1bd692b74f7c483",
            "bb0b07f6afd743e48573dacbaaa80280",
            "3c02facb11664a77812e8ca6dfbd25d4",
            "108289aa10e1400087f0609d3d5e01ed",
            "104c9ca130c342d7bcd52d1e5a5ac56b",
            "ca023b7a8a394b37bc011a7207bd22ae",
            "71a650dbe216460895399d9e7171a27e",
            "477f26e9104d4fd28927523579092b72",
            "7b0d3e7320724fe7bf8b26a3c1ddc3c6",
            "b281399a18214872983a6a59f5176356",
            "000afba3e91f40fc9a1b04098ef26a9c",
            "0f942984bcf44fd98990c5d38e81d35d",
            "edf92ecb50444cadb25131a15a916514",
            "ce299643b2eb480c8335e872976148a0",
            "fdbb4158e12f450fbf58e4a3d3411a3e",
            "dfa03eb8587b4b9ebb5b428b0ac402ec",
            "61bfef2eb0bf48399098a55547e8ac3f",
            "551c94a8b73d430393f94db6f94993ae",
            "eb4db6abb5e44a2aa7c8c0dedc260461",
            "48a832dca6624c7a947bc8103d2f3105",
            "821eb9a2197e4f0d949956d1717a2c1e",
            "afa6382581c74360a83ec7e45f428455",
            "d3ddde3b11aa4509a9a0373f752b41d7",
            "90cde95dcbc04353916539e2b1e75db3",
            "b9a8edf9b0014bdeaa7afe047cda4550",
            "d8ff634d283a45cb82fb493332070a7a",
            "3098dd956f514953b052fad996bf1676",
            "cee46226aa184a4a8e89b331b01eb234",
            "ba31a23829d442be882caee795ad5fb9",
            "48fc82d6d6fa49a3ac832f0c35e9cb16",
            "eb052b3ebcfd47dea5330c320a2d9590",
            "dc1b8900cd144effaaf255e074e86bf0",
            "337d51064c6d47928c771260057b4cbb",
            "ef54cba2383e45c8a0c97b474a693b13",
            "a4f059b565de4d7fba65de588c5bdde4",
            "9949168f477a4190a5525da8f74f725c",
            "f772bb4242d74f1191748842c10539cb",
            "915e720fb9f84706b5775a322b382e0e",
            "30e0f345eed649188556c72c64bd53ab",
            "5179dbebe3c94d56807fb6dbbb8e88d8",
            "7814434d9c6e4f7e86a3fbd587c837e4",
            "75319e5df9a24631bd2e6db523131152",
            "af605126fdcc49b6bece9ef0b9ebfb53",
            "8ce9dc332ad7454f92278446856f37ec",
            "e46a0f82b370492599ece7cb15a38a80",
            "4490058676ad4728a9ec2b43e4d9c55b",
            "821e28ed1ac04bb28deedeb45083e8e6",
            "26a4a0a440ae43fb92d6e86ceeb79faf",
            "d2e98cb3fcdf439f87caf39ddb6696f7",
            "640d53d1b3d046a998bd2208df5d1c04",
            "463b86843db242c2aacadbec4a0f13a2",
            "8c0f537f15c54bfdaee2bd0dca010cbb",
            "dac8e4c10d874f6d9fa932f99b80dbcb",
            "4b9d0374a1e840749c0a951116b17c7d",
            "23ef08c97963404694ab0acc61b7c559",
            "625dab2f50de4e938b0f8d23bdf97b7f",
            "43d3cccf9aa04a26a6ac79887bcaabb8",
            "9fcb785acdf04acf9d400bdeda425547",
            "d3c5904f8eeb402f983eff5e0f420261",
            "24bff0497fae4411b3b6919e27c4d58a",
            "81eff90bd02d492583b2d82324865270",
            "b6b098380a324cacbda43279c76b501f",
            "5abe7fdcaaae4a2280716e3293ab7e6b",
            "7b87e273ab3642a2ae05b46d83292f7f",
            "4b64316ebb8c49ce8e5c82ae2e9c7d44",
            "da175049710c43aeb37ab495f79673a2",
            "0fbdaadaa23b4b53b920438d7ceab6d0",
            "7bc81cad15b545f2a486bf1c87ff40ee",
            "7d62f665463c43029591a503b46f1222",
            "4e55ac6c0139400c9f9485e90a681fbb",
            "9876b523592d4722a9652bb4ebb071ea",
            "cce219f532084a5fb0bc4f611f9edaa0",
            "00f6127d7801448e82c99dc2bd0b9b60",
            "07f68cee942344b785578237575d9518",
            "f3b4587a0292440eb10eed7fd56217a3",
            "79a7a18cf14e4f42bd7105bd50773991",
            "cfef1c91a9ec4856a1e13b1d9410a334",
            "95f1c1f10a07499a8e5db1ea171aef2c",
            "d6649ca59992415abd4e2f2e42e1a463",
            "58b65fd6360947a792972c6dabd51df3",
            "1a4029ddea8e43bfbbe69de294396dd1",
            "dae7dcddc907434c9a5dc27b8b55e808",
            "98672a85f140497896e33c1b701af7e7",
            "9d34865873f04e9e9d7fc312be900bfc",
            "85f8dd7e627d4cb0866fd82a56ccc501",
            "ac63c3e7b5ea43f4b017bafdae364f32",
            "a857a02d647540fab2b98e626404d309",
            "beaea2af65044ba7b4b324925eef3432",
            "19095a6e7b5d4021ae7cc393ef36c9cc",
            "c3d5318908f4427694b556d78daa82e7",
            "75dc1383cb03410a8c6d93b83c40c320",
            "d783d35bf9c44596869edb2f26be5f94",
            "2f04c2ec0432413285b21a710bc18df4",
            "b35379b1d9f248cbab65f62da5c0981c",
            "2915dbfc41ca4d8298e99a990e4cfd4a",
            "96ff58ecccdb4e4295f36b14af98a851",
            "1a50ced308f3442798bc71fda40225e5",
            "332fd65f34624fd5a16b8f3cdf66541e",
            "035a8309740c441a96f67c1df4eb97b3",
            "4621421bdca6475eb5ba5dd4ba405859",
            "c4e987ad44004fde9d1c1c2d0b76b33f",
            "0df480ac330b4745a9b4661b8cf5efd0",
            "97c228a8239d43e58ce56ee063e35fdf",
            "cbca4b93300c481babed8993fa6c746e",
            "6f8493c13480412e9db11ccf5593a4b6",
            "54eac5ae3e9b48e490319b05661ab2d6",
            "b4c17e4ac75e4d87bf41ae1a1bd4f12f",
            "27d8d1bcd5b64a17b81b382fab1bad33",
            "cc7383dc52764910b1f326a7ad315200",
            "13586ae9e5a9448c8ff9fc8051204398",
            "8cdf62a3880b4f50925c862a165fed1c",
            "3ac0ca8f72824869b8cf8f66ed2a18ac",
            "9a510239a11243e89c2fefcdd315e1a9",
            "b5d177a6ab94439dad2912b5d9e17798",
            "bccfd5b2c6ec4ba999baddf95c92cc77",
            "7dcaf5da61c94d9486f3ee0b7ba25c77",
            "5e558ce156af415f843e3d808047616e",
            "9488f4ca78b749db8e94f71171304951",
            "64e43e375a7a467d9a58ed8742d003a5",
            "76fbe2752a4a4a71a5c21ec2b8d04c1d",
            "3940c5a167814f849da3ff17137281f3",
            "4ab1b1a80df64772acfbdf83066d8ed6",
            "19d5fa03e16e4cbfa1da229aea4c766a",
            "ff60c3003e1c4cefa6dd645268e68011",
            "16240dc3220947e3afe15af25349e851",
            "7bb0419031e545279c7cc120a8a3c895",
            "db1fa8d355484fd1ad3969fa2550facd",
            "41168ed36c644e09989506e676a44b91",
            "61ef3b2b22f341a3b7fce954d05de7d5",
            "605b2989cc1a43a6a4de9c3f6d4623fb",
            "97f3253da4f54273ac41fb2b8ded7a14",
            "622a2739734f4e01a5beb7a3a7aa82b3",
            "e7b0952bd09c4808b755bdae7b0b4475",
            "9cdf6097143b42d19b85eda1c4977db3",
            "502f6e782d0845fb8563798a28368ce1",
            "72df9e3ee3474c90bcb04fa8c3c04d21",
            "f00dbb9c1a034395a2f32ba99f44d95a",
            "53d388201ab74f1db6dd05e523a0aaf4",
            "1676421fdc004e1bbe8ac2a3dc6f9988",
            "1fd50c9db0d1405db5635f8a63276012",
            "75344da63a5b4f2f88ca197cadcf3779",
            "ad7ad9294405434fae69af0db62955d3",
            "520e482b55a14108b7ced3d2483d4b9a",
            "145676d90cf24e93af76a271860371fe",
            "9b87f743ebf14d4da9aaee5e816f74e1",
            "01f1f6e36ccf4a1caf6d6432e04e374e",
            "701a491ad6864ce6aba0bb39d9991935",
            "662b0e282a61480c907c7cdf8ae3f431",
            "a1ae6c42aafc47a1b4092c3f701f8880",
            "291ed280f1da4e5d93234bf97175b631",
            "041d75f9a5654a75885b1f615b4da582",
            "12251214b2a7489ea5c4b2a33c4b02db",
            "b491c98449c6448999864ca1e5ad3743",
            "9673e0c4c9a048a2b257aaf6413e0b0b",
            "06bdc8a2645d4cb59bbd0b84927b124e",
            "2233eab7d8684e70abd2dbc8acba8427",
            "08e47cf6e1f9426f84dc802fa7327cbc",
            "cc8e28f17a654090adf299ab5241c580",
            "dbdc5903016f45eda530f66f15119c29",
            "46872d3759894fdfaa0c5a31fe6f823f",
            "58602de2d31244ef81a98864903bbbe2",
            "9ac18116af634a2883c6a50698d07c5b",
            "00e0376a0a83496cba3070248c061584",
            "17c31679b9094f81a25d469435541b96",
            "398ca401921f407e9a57b0d5d57cee8d",
            "b00626b682774035b9f377bfd8188d5e",
            "2c542c7929654365b2beb0ff9010f060",
            "b44f27de48674364a5b0d458d37c529b",
            "5e85f389a75d434fa5628016a0f250aa",
            "395774d31294452aaefba49966f04b6f",
            "77997e78b4ad4ac2ab9ce467146fbbf9",
            "edae8cea6fba45baaf07bcfc83c63562",
            "b95422c9becd40508cf22968e02d9402",
            "5033151c3a29473c99fd61cc1d973e5d",
            "ba27071e8bba42928171dacc6c720f05",
            "8b223cd63789458f81f41988a27f9729",
            "da803aea92d74079902927da50ae79c0",
            "8fee2656f5254ef28bba4938ca809e33",
            "7c1038cec3684473bc4db226d37ae3ee",
            "15e46056561047efb5e6019a5dee69da",
            "de6a33f79fe043c192882820c117f860",
            "81e604887b7a405298dec386d2424c7c",
            "2b5317e20ff44f1fa0793dbe4f60fd90",
            "44008828697a49ef814b9ded86ccaf4a",
            "d2116b6a5295466fb88d19bde43ddaa5",
            "d32f0e51a1ac4a57bbe1c5bf864e70c4",
            "141f82dfab59444ebbb79057cec0a616",
            "8028f8b7ccd94c4c91f28c1c669f7797",
            "b3f86c21a6504e079aff26771e1c796a",
            "5a784b36230a4f428af1e39edc197fd0",
            "426129ffa2d84abc8f7d8faf329a47bd",
            "605f8506a30941cc9c65f9bb46491a03",
            "ae57a3097d8047a883d7baa06d053c81",
            "fe4dbf84b8874c6f8c79f30d0d83431a",
            "990f83b62ab24a9eb441d20ba6270c4b",
            "89e7cfbfea4448c68039f3c9c8c9e0a5",
            "ab5727f0d6d44c908d525f523527503c",
            "63d74e8da90345e8a605e5cc3643b179",
            "60f2cd5bec974e829f9f3f990f69e9ef",
            "8e3455da6be144af96480c4abda72fa4",
            "3b17dfaf9cf14a5b832566f2feb9f2c8",
            "8826c2946bc544f7b2567e49c14eab5c",
            "b76f3942040e4183a3701c08c96ca3b6",
            "bbe7ca2f3cf048ca979e1bb0de76d39f",
            "90361bee9d3a4788b78c3ee81a50f905",
            "11f5cd98d77a4fbe9d3bc7ea36bc0b19",
            "5c13dc8969f14abb9da1713011aa2337",
            "e04c70964b204291aeb359837b71cd11",
            "4adb85557db74bf8b0c31ada9042ad49",
            "1002f6a79e99409987aa9fc55b5a472e",
            "6d021e0f8ca74f09bee6c991c8a3a0d4",
            "c857ffe7d76b4c69bf8ff3f36f95616f",
            "c87ebcc8c86341f3b60fadcdecfd081e",
            "253cd9187ec846b09275aafda038762d",
            "aa4b0d5647914e4f9ae70f72a10190bd",
            "8388819bd1d2488a8ceab3aa95e2e86a",
            "120389e6fdec448f93c79c1c466df8c9",
            "e3dd4b389e8b4939b19edc7f539d8a76",
            "1750e1bd66c348fb809fff1889491ab1",
            "58e562ba222840d491d3beedf7524fb8",
            "e6d385627d294adfa3bb7ad94ca3570c",
            "0bee5752d2b5479fa42aaa8299a996f0",
            "d70ad1f86d304f3388bcba26380a0dc9",
            "04a9f175df3b4d889524e01bebb27a9b",
            "42851fb126f4422985e264017c80ebc9",
            "ccd8c0d5a7cc4f8facfa2d87ece682c5",
            "f15f74f7509241d08e3e98316a078a9a",
            "0b8664450dac4a69ba6f4872b9684c8e",
            "91dd79eee5bc4f5a8f5fd19690ea3aed",
            "95ae779061354f65b17afefd63d127f9",
            "65bc8ca844e14128a642b37890df5be3",
            "68bbc8a16bb6431385c8476e08f3faf8",
            "5f0178b330fd40eb8850bc6875f002cd",
            "f2be0a738c414f0b81a5c679245de7db",
            "f8d86c8ccad9448a99231578d80d0177",
            "61bc4eb7926b4ec6901e1665f95a39f4",
            "fd414b1ee3b045abac6c428527390e74",
            "d42bcd88eadf46faa517cd1ecc9208c6",
            "56040e54873e4707ac46f8757cedd2e6",
            "f1400d7b67ce46c59fafcc866c221b08",
            "22f1d4c29f8548bbaef67d2dd83a2829",
            "8e4cd6c338734e5da1390761b2a5dd18",
            "fd0adcc5d2f345a7ab8a7036aa7eb231",
            "d1fe23bfefb242a18392a62a41ef6e4a",
            "645e5921a7df4542be09dc48f33335b9",
            "fb078c74b9964ff5aca4e80cbee59ac8",
            "6ffb5694aab146f88eebb45544ef3c5f",
            "6254b1d9ca074552948e9d50cb5e8036",
            "97a6caa0bd6747b0bd0a778a34e2ec0c",
            "8b0230fc609541bd892e1500d087ff91",
            "75eb7b04e9834962be84f27cb669ddae",
            "4172d66a99d742399c106148b80913b8",
            "4895f2540894452db30e5c46057fb478",
            "35d7b4231a05428cb245fa3d7a8d1a94",
            "9f9a4606454e40f9aaf3c09422b05637",
            "317141f853fc457a840a4584647923f5",
            "56f5569927174709a9482ddb464cd672",
            "f0b1dab185a040748aa66172c8b80ced",
            "705483d3bfbb444c9eea626824b67504",
            "36378be46b034d45a2c17c1d3c6501c2",
            "a9891f81dd664709a80c4aa5cd0b01ac",
            "2016a2789fe54340abf94db0668f15b4",
            "bc48e9a550e7473fa022ef1f9453f7f4",
            "e89550bb784e45d89f75f7ad852199e5",
            "8b9627b576e948d6b052f0bbedd570f7",
            "a5376378228f4af0bfab2360738db01b",
            "24e074804cbf440ca3aac24ce108e06d",
            "a1a3130238164b61940b985d79e9fb99",
            "31b7f026458547ca9577210c00ffbbfd",
            "0be3ac2f54e540178f96a3f5d148bd40",
            "f361f35d61ea4f19a342435aa5ce4991",
            "560f9ebfaa164d95b97fcd4c404924b9",
            "211259137cf04acd8b468825b3566e6a",
            "75410e3f25c4431fb640cb41fdb3ad4c",
            "f1d6d88c65ec4c40ab768eaf7b0ee7b0",
            "77d593f3b71245f88a81a43e0453d094",
            "32d92b4543354e36beaa43232616e8d1",
            "5872800361204888b9dc33dceb5f47f4",
            "83b3b9e5893245578b68bfbf4a9951b3",
            "d36e13180f2e490e8f44c0eac45e65fb",
            "8e22142075d649ebb667087fd4f276bf",
            "1636b4d005514315bb32196926f23cf9",
            "ff1ab3e495e746af9bd83cea4bd97492",
            "1c0be888b05c41d5b22d6a1094e6ecad",
            "b54fbac70f9048ee907c566c41ced053",
            "fc5cefc7b8c847ec8242395cc5023ecb",
            "22370f82b627436fa676dcfe807ed7ad",
            "5e6beca5c9f447988624736068812e4c",
            "d74f294c9b1243b5900c93e2e12258da",
            "3bc6b539907c40d298efabf5f84a19da",
            "29786172f8b74d1db4502b22b00c4499",
            "487b3033b4b14973b8ce097722be5df6"
          ]
        },
        "id": "ViJCSrWW52IL",
        "outputId": "036d27af-3e9a-4e86-dca6-e3173762ea78"
      },
      "outputs": [
        {
          "name": "stdout",
          "output_type": "stream",
          "text": [
            "TRAINING ARGUMENTS:\n",
            ">>> dataset: cifar10\n",
            ">>> data_dir: data\n",
            ">>> sample_dir: sample\n",
            ">>> save_dir: saves\n",
            ">>> num_workers: 16\n",
            ">>> im_size: 32\n",
            ">>> z_dim: 128\n",
            ">>> g_conv_dim: 64\n",
            ">>> d_conv_dim: 64\n",
            ">>> total_step: 20000\n",
            ">>> batch_size: 64\n",
            ">>> g_lr: 0.0001\n",
            ">>> d_lr: 0.0004\n",
            ">>> beta1: 0.0\n",
            ">>> beta2: 0.9\n",
            ">>> lambda_gp: 10\n",
            ">>> adv_loss: hinge\n",
            ">>> device: cuda\n",
            ">>> parallel: False\n",
            ">>> log_step: 20\n",
            ">>> sample_step: 200\n",
            ">>> eval_step: 500\n",
            ">>> model_save_step: 10\n",
            ">>> sample_num: 100\n",
            ">>> timestamp: 1726334044403\n",
            ">>> num_images: 50000\n",
            ">>> fid_cache: ./stats/cifar10.train.npz\n",
            ">>> fid_scores: []\n",
            ">>> inception_scores: []\n",
            "=> creating model...\n",
            "=> creating scorer...\n"
          ]
        },
        {
          "name": "stderr",
          "output_type": "stream",
          "text": [
            "/usr/local/lib/python3.10/dist-packages/torchvision/models/_utils.py:208: UserWarning: The parameter 'pretrained' is deprecated since 0.13 and may be removed in the future, please use 'weights' instead.\n",
            "  warnings.warn(\n",
            "/usr/local/lib/python3.10/dist-packages/torchvision/models/_utils.py:223: UserWarning: Arguments other than a weight enum or `None` for 'weights' are deprecated since 0.13 and may be removed in the future. The current behavior is equivalent to passing `weights=Inception_V3_Weights.IMAGENET1K_V1`. You can also use `weights=Inception_V3_Weights.DEFAULT` to get the most up-to-date weights.\n",
            "  warnings.warn(msg)\n",
            "Downloading: \"https://download.pytorch.org/models/inception_v3_google-0cc3c7bd.pth\" to /root/.cache/torch/hub/checkpoints/inception_v3_google-0cc3c7bd.pth\n",
            "100%|██████████| 104M/104M [00:00<00:00, 210MB/s]\n"
          ]
        },
        {
          "name": "stdout",
          "output_type": "stream",
          "text": [
            "=> loading data...\n",
            "Downloading https://www.cs.toronto.edu/~kriz/cifar-10-python.tar.gz to data/cifar10/cifar-10-python.tar.gz\n"
          ]
        },
        {
          "name": "stderr",
          "output_type": "stream",
          "text": [
            "100%|██████████| 170498071/170498071 [00:12<00:00, 13303553.93it/s]\n"
          ]
        },
        {
          "name": "stdout",
          "output_type": "stream",
          "text": [
            "Extracting data/cifar10/cifar-10-python.tar.gz to data/cifar10\n"
          ]
        },
        {
          "name": "stderr",
          "output_type": "stream",
          "text": [
            "/usr/local/lib/python3.10/dist-packages/torch/utils/data/dataloader.py:557: UserWarning: This DataLoader will create 16 worker processes in total. Our suggested max number of worker in current system is 12, which is smaller than what this DataLoader is going to create. Please be aware that excessive worker creation might get DataLoader running slow or even freeze, lower the worker number to avoid potential slowness/freeze if necessary.\n",
            "  warnings.warn(_create_warning_msg(\n",
            "/usr/lib/python3.10/multiprocessing/popen_fork.py:66: RuntimeWarning: os.fork() was called. os.fork() is incompatible with multithreaded code, and JAX is multithreaded, so this will likely lead to a deadlock.\n",
            "  self.pid = os.fork()\n",
            "100%|██████████| 781/781 [00:24<00:00, 31.46it/s]\n"
          ]
        },
        {
          "name": "stdout",
          "output_type": "stream",
          "text": [
            "real inception score: 10.2104\n",
            "step: 20/20000, g_loss_fake: 11.2208\n",
            "step: 40/20000, g_loss_fake: 6.8975\n",
            "step: 60/20000, g_loss_fake: 6.7693\n",
            "step: 80/20000, g_loss_fake: 9.0487\n",
            "step: 100/20000, g_loss_fake: 2.8612\n",
            "step: 120/20000, g_loss_fake: 7.1209\n",
            "step: 140/20000, g_loss_fake: 0.9019\n",
            "step: 160/20000, g_loss_fake: 2.1068\n",
            "step: 180/20000, g_loss_fake: 3.9245\n",
            "step: 200/20000, g_loss_fake: 1.3735\n",
            "step: 220/20000, g_loss_fake: 1.8972\n",
            "step: 240/20000, g_loss_fake: 0.7997\n",
            "step: 260/20000, g_loss_fake: 1.1673\n",
            "step: 280/20000, g_loss_fake: 0.6843\n",
            "step: 300/20000, g_loss_fake: 1.3885\n",
            "step: 320/20000, g_loss_fake: 0.6367\n",
            "step: 340/20000, g_loss_fake: 0.4772\n",
            "step: 360/20000, g_loss_fake: -0.1863\n",
            "step: 380/20000, g_loss_fake: 1.1674\n",
            "step: 400/20000, g_loss_fake: 1.7480\n",
            "step: 420/20000, g_loss_fake: 0.2883\n",
            "step: 440/20000, g_loss_fake: 1.8671\n",
            "step: 460/20000, g_loss_fake: 2.5481\n",
            "step: 480/20000, g_loss_fake: 0.9883\n",
            "step: 500/20000, g_loss_fake: 1.0729\n"
          ]
        },
        {
          "name": "stderr",
          "output_type": "stream",
          "text": [
            "100%|██████████| 100/100 [00:03<00:00, 32.05it/s]\n"
          ]
        },
        {
          "name": "stdout",
          "output_type": "stream",
          "text": [
            "fake inception score: 2.0499\n"
          ]
        },
        {
          "name": "stderr",
          "output_type": "stream",
          "text": [
            "Downloading: \"https://github.com/w86763777/pytorch-image-generation-metrics/releases/download/v0.1.0/pt_inception-2015-12-05-6726825d.pth\" to /root/.cache/torch/hub/checkpoints/pt_inception-2015-12-05-6726825d.pth\n",
            "100%|██████████| 91.2M/91.2M [00:03<00:00, 26.0MB/s]\n"
          ]
        },
        {
          "data": {
            "application/vnd.jupyter.widget-view+json": {
              "model_id": "3914588e322d491caadb4d4a003c2ea8",
              "version_major": 2,
              "version_minor": 0
            },
            "text/plain": [
              "get_inception_feature:   0%|          | 0/50000 [00:00<?, ?it/s]"
            ]
          },
          "metadata": {},
          "output_type": "display_data"
        },
        {
          "name": "stdout",
          "output_type": "stream",
          "text": [
            "499/20000 Inception Score: 1.987(0.01346), FID: 281.679\n",
            "step: 520/20000, g_loss_fake: 2.1312\n",
            "step: 540/20000, g_loss_fake: 0.8624\n",
            "step: 560/20000, g_loss_fake: 2.0208\n",
            "step: 580/20000, g_loss_fake: 1.5434\n",
            "step: 600/20000, g_loss_fake: 3.1988\n",
            "step: 620/20000, g_loss_fake: 0.4147\n",
            "step: 640/20000, g_loss_fake: 1.3243\n",
            "step: 660/20000, g_loss_fake: 0.6533\n",
            "step: 680/20000, g_loss_fake: 2.8777\n",
            "step: 700/20000, g_loss_fake: 2.3661\n",
            "step: 720/20000, g_loss_fake: 1.3340\n",
            "step: 740/20000, g_loss_fake: 1.8616\n",
            "step: 760/20000, g_loss_fake: 1.4597\n",
            "step: 780/20000, g_loss_fake: 2.1051\n",
            "step: 800/20000, g_loss_fake: 2.7298\n",
            "step: 820/20000, g_loss_fake: 2.3344\n",
            "step: 840/20000, g_loss_fake: 1.2667\n",
            "step: 860/20000, g_loss_fake: 1.0808\n",
            "step: 880/20000, g_loss_fake: 2.0824\n",
            "step: 900/20000, g_loss_fake: 2.5210\n",
            "step: 920/20000, g_loss_fake: 0.9100\n",
            "step: 940/20000, g_loss_fake: 0.3708\n",
            "step: 960/20000, g_loss_fake: 0.8366\n",
            "step: 980/20000, g_loss_fake: 1.1904\n",
            "step: 1000/20000, g_loss_fake: 1.9070\n"
          ]
        },
        {
          "name": "stderr",
          "output_type": "stream",
          "text": [
            "100%|██████████| 100/100 [00:03<00:00, 32.25it/s]\n"
          ]
        },
        {
          "name": "stdout",
          "output_type": "stream",
          "text": [
            "fake inception score: 1.8900\n"
          ]
        },
        {
          "name": "stderr",
          "output_type": "stream",
          "text": []
        },
        {
          "data": {
            "application/vnd.jupyter.widget-view+json": {
              "model_id": "d2da247c0b24492ca8b43a7c2a8bed2e",
              "version_major": 2,
              "version_minor": 0
            },
            "text/plain": [
              "get_inception_feature:   0%|          | 0/50000 [00:00<?, ?it/s]"
            ]
          },
          "metadata": {},
          "output_type": "display_data"
        },
        {
          "name": "stdout",
          "output_type": "stream",
          "text": [
            "999/20000 Inception Score: 2.428(0.01812), FID: 247.436\n",
            "step: 1020/20000, g_loss_fake: 2.5274\n",
            "step: 1040/20000, g_loss_fake: 1.8667\n",
            "step: 1060/20000, g_loss_fake: 1.4232\n",
            "step: 1080/20000, g_loss_fake: 2.3166\n",
            "step: 1100/20000, g_loss_fake: 1.5638\n",
            "step: 1120/20000, g_loss_fake: 2.5156\n",
            "step: 1140/20000, g_loss_fake: 3.0224\n",
            "step: 1160/20000, g_loss_fake: 2.5914\n",
            "step: 1180/20000, g_loss_fake: 0.0265\n",
            "step: 1200/20000, g_loss_fake: 2.4378\n",
            "step: 1220/20000, g_loss_fake: 1.0184\n",
            "step: 1240/20000, g_loss_fake: 2.4783\n",
            "step: 1260/20000, g_loss_fake: 1.1880\n",
            "step: 1280/20000, g_loss_fake: 1.0617\n",
            "step: 1300/20000, g_loss_fake: 2.1118\n",
            "step: 1320/20000, g_loss_fake: 1.9403\n",
            "step: 1340/20000, g_loss_fake: 0.2741\n",
            "step: 1360/20000, g_loss_fake: 0.4985\n",
            "step: 1380/20000, g_loss_fake: 1.2708\n",
            "step: 1400/20000, g_loss_fake: 1.2858\n",
            "step: 1420/20000, g_loss_fake: 3.0937\n",
            "step: 1440/20000, g_loss_fake: 0.9462\n",
            "step: 1460/20000, g_loss_fake: 1.6201\n",
            "step: 1480/20000, g_loss_fake: 0.8978\n",
            "step: 1500/20000, g_loss_fake: 2.8041\n"
          ]
        },
        {
          "name": "stderr",
          "output_type": "stream",
          "text": [
            "100%|██████████| 100/100 [00:03<00:00, 32.30it/s]\n"
          ]
        },
        {
          "name": "stdout",
          "output_type": "stream",
          "text": [
            "fake inception score: 1.9500\n"
          ]
        },
        {
          "name": "stderr",
          "output_type": "stream",
          "text": []
        },
        {
          "data": {
            "application/vnd.jupyter.widget-view+json": {
              "model_id": "38de381b6dc54b05b946e589bf9364df",
              "version_major": 2,
              "version_minor": 0
            },
            "text/plain": [
              "get_inception_feature:   0%|          | 0/50000 [00:00<?, ?it/s]"
            ]
          },
          "metadata": {},
          "output_type": "display_data"
        },
        {
          "name": "stdout",
          "output_type": "stream",
          "text": [
            "1499/20000 Inception Score: 2.199(0.01400), FID: 229.690\n",
            "step: 1520/20000, g_loss_fake: 1.8859\n",
            "step: 1540/20000, g_loss_fake: 1.2190\n",
            "step: 1560/20000, g_loss_fake: 0.4739\n",
            "step: 1580/20000, g_loss_fake: -0.0771\n",
            "step: 1600/20000, g_loss_fake: 1.0760\n",
            "step: 1620/20000, g_loss_fake: 1.0529\n",
            "step: 1640/20000, g_loss_fake: 0.6577\n",
            "step: 1660/20000, g_loss_fake: 3.2158\n",
            "step: 1680/20000, g_loss_fake: 0.9131\n",
            "step: 1700/20000, g_loss_fake: 1.1992\n",
            "step: 1720/20000, g_loss_fake: 0.9657\n",
            "step: 1740/20000, g_loss_fake: -0.1526\n",
            "step: 1760/20000, g_loss_fake: 3.0438\n",
            "step: 1780/20000, g_loss_fake: 1.5296\n",
            "step: 1800/20000, g_loss_fake: 1.3581\n",
            "step: 1820/20000, g_loss_fake: 1.3947\n",
            "step: 1840/20000, g_loss_fake: 1.3122\n",
            "step: 1860/20000, g_loss_fake: 1.1585\n",
            "step: 1880/20000, g_loss_fake: 2.0058\n",
            "step: 1900/20000, g_loss_fake: 1.4715\n",
            "step: 1920/20000, g_loss_fake: 2.7798\n",
            "step: 1940/20000, g_loss_fake: 1.0922\n",
            "step: 1960/20000, g_loss_fake: 0.8103\n",
            "step: 1980/20000, g_loss_fake: 3.7533\n",
            "step: 2000/20000, g_loss_fake: 3.0027\n"
          ]
        },
        {
          "name": "stderr",
          "output_type": "stream",
          "text": [
            "100%|██████████| 100/100 [00:03<00:00, 31.87it/s]\n"
          ]
        },
        {
          "name": "stdout",
          "output_type": "stream",
          "text": [
            "fake inception score: 2.2910\n"
          ]
        },
        {
          "name": "stderr",
          "output_type": "stream",
          "text": []
        },
        {
          "data": {
            "application/vnd.jupyter.widget-view+json": {
              "model_id": "aa38aad0ca784a08937e9295563f3920",
              "version_major": 2,
              "version_minor": 0
            },
            "text/plain": [
              "get_inception_feature:   0%|          | 0/50000 [00:00<?, ?it/s]"
            ]
          },
          "metadata": {},
          "output_type": "display_data"
        },
        {
          "name": "stdout",
          "output_type": "stream",
          "text": [
            "1999/20000 Inception Score: 2.743(0.01996), FID: 161.261\n",
            "step: 2020/20000, g_loss_fake: 4.3858\n",
            "step: 2040/20000, g_loss_fake: 2.1492\n",
            "step: 2060/20000, g_loss_fake: 0.9841\n",
            "step: 2080/20000, g_loss_fake: 2.5408\n",
            "step: 2100/20000, g_loss_fake: 1.4620\n",
            "step: 2120/20000, g_loss_fake: 1.4906\n",
            "step: 2140/20000, g_loss_fake: 2.4760\n",
            "step: 2160/20000, g_loss_fake: 2.2682\n",
            "step: 2180/20000, g_loss_fake: 1.3452\n",
            "step: 2200/20000, g_loss_fake: 2.2766\n",
            "step: 2220/20000, g_loss_fake: 1.5377\n",
            "step: 2240/20000, g_loss_fake: 1.8450\n",
            "step: 2260/20000, g_loss_fake: 3.4981\n",
            "step: 2280/20000, g_loss_fake: 3.6866\n",
            "step: 2300/20000, g_loss_fake: 4.0769\n",
            "step: 2320/20000, g_loss_fake: 1.9139\n",
            "step: 2340/20000, g_loss_fake: 1.6310\n",
            "step: 2360/20000, g_loss_fake: 3.5227\n",
            "step: 2380/20000, g_loss_fake: 1.9338\n",
            "step: 2400/20000, g_loss_fake: 2.8126\n",
            "step: 2420/20000, g_loss_fake: 2.7109\n",
            "step: 2440/20000, g_loss_fake: 2.6955\n",
            "step: 2460/20000, g_loss_fake: 2.9500\n",
            "step: 2480/20000, g_loss_fake: 6.8417\n",
            "step: 2500/20000, g_loss_fake: 2.2980\n"
          ]
        },
        {
          "name": "stderr",
          "output_type": "stream",
          "text": [
            "100%|██████████| 100/100 [00:03<00:00, 31.44it/s]\n"
          ]
        },
        {
          "name": "stdout",
          "output_type": "stream",
          "text": [
            "fake inception score: 2.4531\n"
          ]
        },
        {
          "name": "stderr",
          "output_type": "stream",
          "text": []
        },
        {
          "data": {
            "application/vnd.jupyter.widget-view+json": {
              "model_id": "d03375e25214427cab428075e0befb2c",
              "version_major": 2,
              "version_minor": 0
            },
            "text/plain": [
              "get_inception_feature:   0%|          | 0/50000 [00:00<?, ?it/s]"
            ]
          },
          "metadata": {},
          "output_type": "display_data"
        },
        {
          "name": "stdout",
          "output_type": "stream",
          "text": [
            "2499/20000 Inception Score: 2.981(0.02953), FID: 141.343\n",
            "step: 2520/20000, g_loss_fake: 3.8521\n",
            "step: 2540/20000, g_loss_fake: 1.9585\n",
            "step: 2560/20000, g_loss_fake: 2.4076\n",
            "step: 2580/20000, g_loss_fake: 2.7832\n",
            "step: 2600/20000, g_loss_fake: 1.9098\n",
            "step: 2620/20000, g_loss_fake: 2.1130\n",
            "step: 2640/20000, g_loss_fake: 2.5900\n",
            "step: 2660/20000, g_loss_fake: 4.4928\n",
            "step: 2680/20000, g_loss_fake: 2.9312\n",
            "step: 2700/20000, g_loss_fake: 2.1828\n",
            "step: 2720/20000, g_loss_fake: 2.6050\n",
            "step: 2740/20000, g_loss_fake: 3.3589\n",
            "step: 2760/20000, g_loss_fake: 3.0911\n",
            "step: 2780/20000, g_loss_fake: 2.5655\n",
            "step: 2800/20000, g_loss_fake: 4.5260\n",
            "step: 2820/20000, g_loss_fake: 2.2783\n",
            "step: 2840/20000, g_loss_fake: 3.7431\n",
            "step: 2860/20000, g_loss_fake: 4.2681\n",
            "step: 2880/20000, g_loss_fake: 2.2529\n",
            "step: 2900/20000, g_loss_fake: 2.7934\n",
            "step: 2920/20000, g_loss_fake: 2.6278\n",
            "step: 2940/20000, g_loss_fake: 2.7386\n",
            "step: 2960/20000, g_loss_fake: 2.2498\n",
            "step: 2980/20000, g_loss_fake: 4.5640\n",
            "step: 3000/20000, g_loss_fake: 2.7340\n"
          ]
        },
        {
          "name": "stderr",
          "output_type": "stream",
          "text": [
            "100%|██████████| 100/100 [00:03<00:00, 32.12it/s]\n"
          ]
        },
        {
          "name": "stdout",
          "output_type": "stream",
          "text": [
            "fake inception score: 2.6027\n"
          ]
        },
        {
          "name": "stderr",
          "output_type": "stream",
          "text": []
        },
        {
          "data": {
            "application/vnd.jupyter.widget-view+json": {
              "model_id": "bcd743635a824602a99dad46fc4f57df",
              "version_major": 2,
              "version_minor": 0
            },
            "text/plain": [
              "get_inception_feature:   0%|          | 0/50000 [00:00<?, ?it/s]"
            ]
          },
          "metadata": {},
          "output_type": "display_data"
        },
        {
          "name": "stdout",
          "output_type": "stream",
          "text": [
            "2999/20000 Inception Score: 3.070(0.03310), FID: 148.040\n",
            "step: 3020/20000, g_loss_fake: 3.6934\n",
            "step: 3040/20000, g_loss_fake: 7.3492\n",
            "step: 3060/20000, g_loss_fake: 4.0290\n",
            "step: 3080/20000, g_loss_fake: 2.4360\n",
            "step: 3100/20000, g_loss_fake: 2.6859\n",
            "step: 3120/20000, g_loss_fake: 5.2256\n",
            "step: 3140/20000, g_loss_fake: 4.2432\n",
            "step: 3160/20000, g_loss_fake: 3.6490\n",
            "step: 3180/20000, g_loss_fake: 2.7309\n",
            "step: 3200/20000, g_loss_fake: 2.3844\n",
            "step: 3220/20000, g_loss_fake: 1.8211\n",
            "step: 3240/20000, g_loss_fake: 2.6321\n",
            "step: 3260/20000, g_loss_fake: 4.9005\n",
            "step: 3280/20000, g_loss_fake: 3.6212\n",
            "step: 3300/20000, g_loss_fake: 4.9163\n",
            "step: 3320/20000, g_loss_fake: 4.8217\n",
            "step: 3340/20000, g_loss_fake: 3.1209\n",
            "step: 3360/20000, g_loss_fake: 4.3349\n",
            "step: 3380/20000, g_loss_fake: 2.4109\n",
            "step: 3400/20000, g_loss_fake: 3.7681\n",
            "step: 3420/20000, g_loss_fake: 3.5820\n",
            "step: 3440/20000, g_loss_fake: 5.1115\n",
            "step: 3460/20000, g_loss_fake: 3.8325\n",
            "step: 3480/20000, g_loss_fake: 2.1049\n",
            "step: 3500/20000, g_loss_fake: 4.0260\n"
          ]
        },
        {
          "name": "stderr",
          "output_type": "stream",
          "text": [
            "100%|██████████| 100/100 [00:03<00:00, 31.81it/s]\n"
          ]
        },
        {
          "name": "stdout",
          "output_type": "stream",
          "text": [
            "fake inception score: 2.7479\n"
          ]
        },
        {
          "name": "stderr",
          "output_type": "stream",
          "text": []
        },
        {
          "data": {
            "application/vnd.jupyter.widget-view+json": {
              "model_id": "5615e03805eb4d29bbdce0aec239fbc8",
              "version_major": 2,
              "version_minor": 0
            },
            "text/plain": [
              "get_inception_feature:   0%|          | 0/50000 [00:00<?, ?it/s]"
            ]
          },
          "metadata": {},
          "output_type": "display_data"
        },
        {
          "name": "stdout",
          "output_type": "stream",
          "text": [
            "3499/20000 Inception Score: 3.320(0.04212), FID: 133.941\n",
            "step: 3520/20000, g_loss_fake: 2.8830\n",
            "step: 3540/20000, g_loss_fake: 5.1543\n",
            "step: 3560/20000, g_loss_fake: 4.6792\n",
            "step: 3580/20000, g_loss_fake: 2.7373\n",
            "step: 3600/20000, g_loss_fake: 3.2690\n",
            "step: 3620/20000, g_loss_fake: 3.9853\n",
            "step: 3640/20000, g_loss_fake: 3.2605\n",
            "step: 3660/20000, g_loss_fake: 6.0663\n",
            "step: 3680/20000, g_loss_fake: 2.7858\n",
            "step: 3700/20000, g_loss_fake: 4.9073\n",
            "step: 3720/20000, g_loss_fake: 4.2270\n",
            "step: 3740/20000, g_loss_fake: 2.6057\n",
            "step: 3760/20000, g_loss_fake: 2.4054\n",
            "step: 3780/20000, g_loss_fake: 2.5409\n",
            "step: 3800/20000, g_loss_fake: 2.8188\n",
            "step: 3820/20000, g_loss_fake: 2.3580\n",
            "step: 3840/20000, g_loss_fake: 3.0666\n",
            "step: 3860/20000, g_loss_fake: 2.6389\n",
            "step: 3880/20000, g_loss_fake: 3.6700\n",
            "step: 3900/20000, g_loss_fake: 2.2526\n",
            "step: 3920/20000, g_loss_fake: 4.1367\n",
            "step: 3940/20000, g_loss_fake: 3.3140\n",
            "step: 3960/20000, g_loss_fake: 2.6064\n",
            "step: 3980/20000, g_loss_fake: 4.0031\n",
            "step: 4000/20000, g_loss_fake: 5.8482\n"
          ]
        },
        {
          "name": "stderr",
          "output_type": "stream",
          "text": [
            "100%|██████████| 100/100 [00:03<00:00, 31.81it/s]\n"
          ]
        },
        {
          "name": "stdout",
          "output_type": "stream",
          "text": [
            "fake inception score: 2.6379\n"
          ]
        },
        {
          "name": "stderr",
          "output_type": "stream",
          "text": []
        },
        {
          "data": {
            "application/vnd.jupyter.widget-view+json": {
              "model_id": "4300bd11185841a68b33667a0c9adcf1",
              "version_major": 2,
              "version_minor": 0
            },
            "text/plain": [
              "get_inception_feature:   0%|          | 0/50000 [00:00<?, ?it/s]"
            ]
          },
          "metadata": {},
          "output_type": "display_data"
        },
        {
          "name": "stdout",
          "output_type": "stream",
          "text": [
            "3999/20000 Inception Score: 3.211(0.04399), FID: 145.082\n",
            "step: 4020/20000, g_loss_fake: 1.7491\n",
            "step: 4040/20000, g_loss_fake: 3.7558\n",
            "step: 4060/20000, g_loss_fake: 2.5103\n",
            "step: 4080/20000, g_loss_fake: 4.2280\n",
            "step: 4100/20000, g_loss_fake: 6.1672\n",
            "step: 4120/20000, g_loss_fake: 3.5223\n",
            "step: 4140/20000, g_loss_fake: 3.3785\n",
            "step: 4160/20000, g_loss_fake: 2.4742\n",
            "step: 4180/20000, g_loss_fake: 3.9480\n",
            "step: 4200/20000, g_loss_fake: 4.7382\n",
            "step: 4220/20000, g_loss_fake: 3.5631\n",
            "step: 4240/20000, g_loss_fake: 5.6950\n",
            "step: 4260/20000, g_loss_fake: 2.1132\n",
            "step: 4280/20000, g_loss_fake: 3.6282\n",
            "step: 4300/20000, g_loss_fake: 2.4007\n",
            "step: 4320/20000, g_loss_fake: 2.7809\n",
            "step: 4340/20000, g_loss_fake: 3.4819\n",
            "step: 4360/20000, g_loss_fake: 3.9521\n",
            "step: 4380/20000, g_loss_fake: 6.2777\n",
            "step: 4400/20000, g_loss_fake: 2.8159\n",
            "step: 4420/20000, g_loss_fake: 8.0289\n",
            "step: 4440/20000, g_loss_fake: 4.0052\n",
            "step: 4460/20000, g_loss_fake: 2.3365\n",
            "step: 4480/20000, g_loss_fake: 4.2940\n",
            "step: 4500/20000, g_loss_fake: 3.0023\n"
          ]
        },
        {
          "name": "stderr",
          "output_type": "stream",
          "text": [
            "100%|██████████| 100/100 [00:03<00:00, 31.97it/s]\n"
          ]
        },
        {
          "name": "stdout",
          "output_type": "stream",
          "text": [
            "fake inception score: 2.5157\n"
          ]
        },
        {
          "name": "stderr",
          "output_type": "stream",
          "text": []
        },
        {
          "data": {
            "application/vnd.jupyter.widget-view+json": {
              "model_id": "d55e465ee11f46c0961d603cbdf86646",
              "version_major": 2,
              "version_minor": 0
            },
            "text/plain": [
              "get_inception_feature:   0%|          | 0/50000 [00:00<?, ?it/s]"
            ]
          },
          "metadata": {},
          "output_type": "display_data"
        },
        {
          "name": "stdout",
          "output_type": "stream",
          "text": [
            "4499/20000 Inception Score: 3.043(0.04184), FID: 147.550\n",
            "step: 4520/20000, g_loss_fake: 2.1889\n",
            "step: 4540/20000, g_loss_fake: 4.5554\n",
            "step: 4560/20000, g_loss_fake: 2.1219\n",
            "step: 4580/20000, g_loss_fake: 2.9688\n",
            "step: 4600/20000, g_loss_fake: 2.9438\n",
            "step: 4620/20000, g_loss_fake: 2.5196\n",
            "step: 4640/20000, g_loss_fake: 2.5243\n",
            "step: 4660/20000, g_loss_fake: 2.2185\n",
            "step: 4680/20000, g_loss_fake: 2.6789\n",
            "step: 4700/20000, g_loss_fake: 4.5434\n",
            "step: 4720/20000, g_loss_fake: 2.5158\n",
            "step: 4740/20000, g_loss_fake: 3.1022\n",
            "step: 4760/20000, g_loss_fake: 3.8311\n",
            "step: 4780/20000, g_loss_fake: 2.8594\n",
            "step: 4800/20000, g_loss_fake: 3.2287\n",
            "step: 4820/20000, g_loss_fake: 2.6491\n",
            "step: 4840/20000, g_loss_fake: 3.6351\n",
            "step: 4860/20000, g_loss_fake: 2.6294\n",
            "step: 4880/20000, g_loss_fake: 2.5358\n",
            "step: 4900/20000, g_loss_fake: 3.6557\n",
            "step: 4920/20000, g_loss_fake: 2.7772\n",
            "step: 4940/20000, g_loss_fake: 4.0310\n",
            "step: 4960/20000, g_loss_fake: 2.5427\n",
            "step: 4980/20000, g_loss_fake: 2.1570\n",
            "step: 5000/20000, g_loss_fake: 1.5955\n"
          ]
        },
        {
          "name": "stderr",
          "output_type": "stream",
          "text": [
            "100%|██████████| 100/100 [00:03<00:00, 31.60it/s]\n"
          ]
        },
        {
          "name": "stdout",
          "output_type": "stream",
          "text": [
            "fake inception score: 2.5720\n"
          ]
        },
        {
          "name": "stderr",
          "output_type": "stream",
          "text": []
        },
        {
          "data": {
            "application/vnd.jupyter.widget-view+json": {
              "model_id": "805760b5f94e452886681a86e677ad6b",
              "version_major": 2,
              "version_minor": 0
            },
            "text/plain": [
              "get_inception_feature:   0%|          | 0/50000 [00:00<?, ?it/s]"
            ]
          },
          "metadata": {},
          "output_type": "display_data"
        },
        {
          "name": "stdout",
          "output_type": "stream",
          "text": [
            "4999/20000 Inception Score: 3.167(0.02222), FID: 144.818\n",
            "step: 5020/20000, g_loss_fake: 2.6225\n",
            "step: 5040/20000, g_loss_fake: 1.8816\n",
            "step: 5060/20000, g_loss_fake: 5.5322\n",
            "step: 5080/20000, g_loss_fake: 3.7624\n",
            "step: 5100/20000, g_loss_fake: 4.7071\n",
            "step: 5120/20000, g_loss_fake: 2.4137\n",
            "step: 5140/20000, g_loss_fake: 4.2555\n",
            "step: 5160/20000, g_loss_fake: 3.4271\n",
            "step: 5180/20000, g_loss_fake: 3.1325\n",
            "step: 5200/20000, g_loss_fake: 2.1166\n",
            "step: 5220/20000, g_loss_fake: 3.7202\n",
            "step: 5240/20000, g_loss_fake: 2.8861\n",
            "step: 5260/20000, g_loss_fake: 0.9547\n",
            "step: 5280/20000, g_loss_fake: 3.6121\n",
            "step: 5300/20000, g_loss_fake: 3.5639\n",
            "step: 5320/20000, g_loss_fake: 5.6690\n",
            "step: 5340/20000, g_loss_fake: 2.5229\n",
            "step: 5360/20000, g_loss_fake: 3.1774\n",
            "step: 5380/20000, g_loss_fake: 2.6134\n",
            "step: 5400/20000, g_loss_fake: 1.7519\n",
            "step: 5420/20000, g_loss_fake: 3.1632\n",
            "step: 5440/20000, g_loss_fake: 3.3163\n",
            "step: 5460/20000, g_loss_fake: 3.2834\n",
            "step: 5480/20000, g_loss_fake: 2.4330\n",
            "step: 5500/20000, g_loss_fake: 2.3955\n"
          ]
        },
        {
          "name": "stderr",
          "output_type": "stream",
          "text": [
            "100%|██████████| 100/100 [00:03<00:00, 31.65it/s]\n"
          ]
        },
        {
          "name": "stdout",
          "output_type": "stream",
          "text": [
            "fake inception score: 2.6879\n"
          ]
        },
        {
          "name": "stderr",
          "output_type": "stream",
          "text": []
        },
        {
          "data": {
            "application/vnd.jupyter.widget-view+json": {
              "model_id": "cb8e5543f41f49c5af2e659758fc7b81",
              "version_major": 2,
              "version_minor": 0
            },
            "text/plain": [
              "get_inception_feature:   0%|          | 0/50000 [00:00<?, ?it/s]"
            ]
          },
          "metadata": {},
          "output_type": "display_data"
        },
        {
          "name": "stdout",
          "output_type": "stream",
          "text": [
            "5499/20000 Inception Score: 3.335(0.03123), FID: 136.744\n",
            "step: 5520/20000, g_loss_fake: 3.6033\n",
            "step: 5540/20000, g_loss_fake: 2.3220\n",
            "step: 5560/20000, g_loss_fake: 1.4757\n",
            "step: 5580/20000, g_loss_fake: 3.8610\n",
            "step: 5600/20000, g_loss_fake: 2.8730\n",
            "step: 5620/20000, g_loss_fake: 3.1733\n",
            "step: 5640/20000, g_loss_fake: 5.8602\n",
            "step: 5660/20000, g_loss_fake: 2.8259\n",
            "step: 5680/20000, g_loss_fake: 4.3478\n",
            "step: 5700/20000, g_loss_fake: 2.0234\n",
            "step: 5720/20000, g_loss_fake: 2.4861\n",
            "step: 5740/20000, g_loss_fake: 3.3024\n",
            "step: 5760/20000, g_loss_fake: 2.8289\n",
            "step: 5780/20000, g_loss_fake: 3.0506\n",
            "step: 5800/20000, g_loss_fake: 2.6422\n",
            "step: 5820/20000, g_loss_fake: 3.1822\n",
            "step: 5840/20000, g_loss_fake: 2.9050\n",
            "step: 5860/20000, g_loss_fake: 2.5625\n",
            "step: 5880/20000, g_loss_fake: 2.9407\n",
            "step: 5900/20000, g_loss_fake: 3.0373\n",
            "step: 5920/20000, g_loss_fake: 4.2378\n",
            "step: 5940/20000, g_loss_fake: 2.2739\n",
            "step: 5960/20000, g_loss_fake: 4.0289\n",
            "step: 5980/20000, g_loss_fake: 1.8992\n",
            "step: 6000/20000, g_loss_fake: 4.6351\n"
          ]
        },
        {
          "name": "stderr",
          "output_type": "stream",
          "text": [
            "100%|██████████| 100/100 [00:03<00:00, 31.92it/s]\n"
          ]
        },
        {
          "name": "stdout",
          "output_type": "stream",
          "text": [
            "fake inception score: 2.6885\n"
          ]
        },
        {
          "name": "stderr",
          "output_type": "stream",
          "text": []
        },
        {
          "data": {
            "application/vnd.jupyter.widget-view+json": {
              "model_id": "662b25fa88e644a392b039fc4da1d91a",
              "version_major": 2,
              "version_minor": 0
            },
            "text/plain": [
              "get_inception_feature:   0%|          | 0/50000 [00:00<?, ?it/s]"
            ]
          },
          "metadata": {},
          "output_type": "display_data"
        },
        {
          "name": "stdout",
          "output_type": "stream",
          "text": [
            "5999/20000 Inception Score: 3.145(0.03151), FID: 148.461\n",
            "step: 6020/20000, g_loss_fake: 3.3394\n",
            "step: 6040/20000, g_loss_fake: 4.3062\n",
            "step: 6060/20000, g_loss_fake: 2.7445\n",
            "step: 6080/20000, g_loss_fake: 2.8259\n",
            "step: 6100/20000, g_loss_fake: 3.2948\n",
            "step: 6120/20000, g_loss_fake: 5.7228\n",
            "step: 6140/20000, g_loss_fake: 1.6233\n",
            "step: 6160/20000, g_loss_fake: 2.7939\n",
            "step: 6180/20000, g_loss_fake: 4.6502\n",
            "step: 6200/20000, g_loss_fake: 5.1247\n",
            "step: 6220/20000, g_loss_fake: 2.5180\n",
            "step: 6240/20000, g_loss_fake: 3.4571\n",
            "step: 6260/20000, g_loss_fake: 3.8382\n",
            "step: 6280/20000, g_loss_fake: 2.4000\n",
            "step: 6300/20000, g_loss_fake: 4.3682\n",
            "step: 6320/20000, g_loss_fake: 3.3319\n",
            "step: 6340/20000, g_loss_fake: 2.7045\n",
            "step: 6360/20000, g_loss_fake: 7.3897\n",
            "step: 6380/20000, g_loss_fake: 2.4540\n",
            "step: 6400/20000, g_loss_fake: 2.4837\n",
            "step: 6420/20000, g_loss_fake: 3.0880\n",
            "step: 6440/20000, g_loss_fake: 3.8604\n",
            "step: 6460/20000, g_loss_fake: 2.0828\n",
            "step: 6480/20000, g_loss_fake: 2.9109\n",
            "step: 6500/20000, g_loss_fake: 3.3264\n"
          ]
        },
        {
          "name": "stderr",
          "output_type": "stream",
          "text": [
            "100%|██████████| 100/100 [00:03<00:00, 31.97it/s]\n"
          ]
        },
        {
          "name": "stdout",
          "output_type": "stream",
          "text": [
            "fake inception score: 2.5534\n"
          ]
        },
        {
          "name": "stderr",
          "output_type": "stream",
          "text": []
        },
        {
          "data": {
            "application/vnd.jupyter.widget-view+json": {
              "model_id": "774baadaa7074f5b9e0ded253ab3e424",
              "version_major": 2,
              "version_minor": 0
            },
            "text/plain": [
              "get_inception_feature:   0%|          | 0/50000 [00:00<?, ?it/s]"
            ]
          },
          "metadata": {},
          "output_type": "display_data"
        },
        {
          "name": "stdout",
          "output_type": "stream",
          "text": [
            "6499/20000 Inception Score: 2.889(0.03431), FID: 154.116\n",
            "step: 6520/20000, g_loss_fake: 2.7164\n",
            "step: 6540/20000, g_loss_fake: 2.6185\n",
            "step: 6560/20000, g_loss_fake: 2.1349\n",
            "step: 6580/20000, g_loss_fake: 2.5123\n",
            "step: 6600/20000, g_loss_fake: 3.4773\n",
            "step: 6620/20000, g_loss_fake: 4.6799\n",
            "step: 6640/20000, g_loss_fake: 3.6322\n",
            "step: 6660/20000, g_loss_fake: 2.2628\n",
            "step: 6680/20000, g_loss_fake: 4.7331\n",
            "step: 6700/20000, g_loss_fake: 2.3859\n",
            "step: 6720/20000, g_loss_fake: 2.1916\n",
            "step: 6740/20000, g_loss_fake: 2.1360\n",
            "step: 6760/20000, g_loss_fake: 3.3613\n",
            "step: 6780/20000, g_loss_fake: 3.7005\n",
            "step: 6800/20000, g_loss_fake: 3.0007\n",
            "step: 6820/20000, g_loss_fake: 3.2352\n",
            "step: 6840/20000, g_loss_fake: 2.4365\n",
            "step: 6860/20000, g_loss_fake: 2.3983\n",
            "step: 6880/20000, g_loss_fake: 2.5939\n",
            "step: 6900/20000, g_loss_fake: 2.8090\n",
            "step: 6920/20000, g_loss_fake: 2.1652\n",
            "step: 6940/20000, g_loss_fake: 3.4445\n",
            "step: 6960/20000, g_loss_fake: 2.5681\n",
            "step: 6980/20000, g_loss_fake: 2.2745\n",
            "step: 7000/20000, g_loss_fake: 3.6835\n"
          ]
        },
        {
          "name": "stderr",
          "output_type": "stream",
          "text": [
            "100%|██████████| 100/100 [00:03<00:00, 31.89it/s]\n"
          ]
        },
        {
          "name": "stdout",
          "output_type": "stream",
          "text": [
            "fake inception score: 2.5313\n"
          ]
        },
        {
          "name": "stderr",
          "output_type": "stream",
          "text": []
        },
        {
          "data": {
            "application/vnd.jupyter.widget-view+json": {
              "model_id": "c8ba00799fa744fbbb33d73039fe9fc3",
              "version_major": 2,
              "version_minor": 0
            },
            "text/plain": [
              "get_inception_feature:   0%|          | 0/50000 [00:00<?, ?it/s]"
            ]
          },
          "metadata": {},
          "output_type": "display_data"
        },
        {
          "name": "stdout",
          "output_type": "stream",
          "text": [
            "6999/20000 Inception Score: 3.023(0.02103), FID: 152.049\n",
            "step: 7020/20000, g_loss_fake: 4.5234\n",
            "step: 7040/20000, g_loss_fake: 2.8522\n",
            "step: 7060/20000, g_loss_fake: 2.6355\n",
            "step: 7080/20000, g_loss_fake: 3.4202\n",
            "step: 7100/20000, g_loss_fake: 3.0705\n",
            "step: 7120/20000, g_loss_fake: 3.6453\n",
            "step: 7140/20000, g_loss_fake: 3.3586\n",
            "step: 7160/20000, g_loss_fake: 3.5660\n",
            "step: 7180/20000, g_loss_fake: 5.2674\n",
            "step: 7200/20000, g_loss_fake: 2.5585\n",
            "step: 7220/20000, g_loss_fake: 2.7542\n",
            "step: 7240/20000, g_loss_fake: 2.6564\n",
            "step: 7260/20000, g_loss_fake: 4.2570\n",
            "step: 7280/20000, g_loss_fake: 2.3403\n",
            "step: 7300/20000, g_loss_fake: 5.0069\n",
            "step: 7320/20000, g_loss_fake: 4.7001\n",
            "step: 7340/20000, g_loss_fake: 4.1212\n",
            "step: 7360/20000, g_loss_fake: 5.2884\n",
            "step: 7380/20000, g_loss_fake: 3.5421\n",
            "step: 7400/20000, g_loss_fake: 3.0806\n",
            "step: 7420/20000, g_loss_fake: 2.6979\n",
            "step: 7440/20000, g_loss_fake: 7.5854\n",
            "step: 7460/20000, g_loss_fake: 2.4113\n",
            "step: 7480/20000, g_loss_fake: 2.1371\n",
            "step: 7500/20000, g_loss_fake: 2.5754\n"
          ]
        },
        {
          "name": "stderr",
          "output_type": "stream",
          "text": [
            "100%|██████████| 100/100 [00:03<00:00, 32.20it/s]\n"
          ]
        },
        {
          "name": "stdout",
          "output_type": "stream",
          "text": [
            "fake inception score: 2.3967\n"
          ]
        },
        {
          "name": "stderr",
          "output_type": "stream",
          "text": []
        },
        {
          "data": {
            "application/vnd.jupyter.widget-view+json": {
              "model_id": "71a650dbe216460895399d9e7171a27e",
              "version_major": 2,
              "version_minor": 0
            },
            "text/plain": [
              "get_inception_feature:   0%|          | 0/50000 [00:00<?, ?it/s]"
            ]
          },
          "metadata": {},
          "output_type": "display_data"
        },
        {
          "name": "stdout",
          "output_type": "stream",
          "text": [
            "7499/20000 Inception Score: 2.942(0.02177), FID: 149.473\n",
            "step: 7520/20000, g_loss_fake: 3.3269\n",
            "step: 7540/20000, g_loss_fake: 3.5295\n",
            "step: 7560/20000, g_loss_fake: 3.8145\n",
            "step: 7580/20000, g_loss_fake: 2.9486\n",
            "step: 7600/20000, g_loss_fake: 4.8046\n",
            "step: 7620/20000, g_loss_fake: 5.0132\n",
            "step: 7640/20000, g_loss_fake: 8.0833\n",
            "step: 7660/20000, g_loss_fake: 3.0064\n",
            "step: 7680/20000, g_loss_fake: 2.4402\n",
            "step: 7700/20000, g_loss_fake: 2.6795\n",
            "step: 7720/20000, g_loss_fake: 4.1648\n",
            "step: 7740/20000, g_loss_fake: 2.6383\n",
            "step: 7760/20000, g_loss_fake: 5.6738\n",
            "step: 7780/20000, g_loss_fake: 3.0599\n",
            "step: 7800/20000, g_loss_fake: 3.3694\n",
            "step: 7820/20000, g_loss_fake: 3.9391\n",
            "step: 7840/20000, g_loss_fake: 1.4004\n",
            "step: 7860/20000, g_loss_fake: 4.0493\n",
            "step: 7880/20000, g_loss_fake: 3.2965\n",
            "step: 7900/20000, g_loss_fake: 3.0528\n",
            "step: 7920/20000, g_loss_fake: 7.4627\n",
            "step: 7940/20000, g_loss_fake: 4.7376\n",
            "step: 7960/20000, g_loss_fake: 3.6430\n",
            "step: 7980/20000, g_loss_fake: 3.3934\n",
            "step: 8000/20000, g_loss_fake: 2.4126\n"
          ]
        },
        {
          "name": "stderr",
          "output_type": "stream",
          "text": [
            "100%|██████████| 100/100 [00:03<00:00, 32.29it/s]\n"
          ]
        },
        {
          "name": "stdout",
          "output_type": "stream",
          "text": [
            "fake inception score: 2.9469\n"
          ]
        },
        {
          "name": "stderr",
          "output_type": "stream",
          "text": []
        },
        {
          "data": {
            "application/vnd.jupyter.widget-view+json": {
              "model_id": "551c94a8b73d430393f94db6f94993ae",
              "version_major": 2,
              "version_minor": 0
            },
            "text/plain": [
              "get_inception_feature:   0%|          | 0/50000 [00:00<?, ?it/s]"
            ]
          },
          "metadata": {},
          "output_type": "display_data"
        },
        {
          "name": "stdout",
          "output_type": "stream",
          "text": [
            "7999/20000 Inception Score: 3.437(0.02830), FID: 138.319\n",
            "step: 8020/20000, g_loss_fake: 2.7406\n",
            "step: 8040/20000, g_loss_fake: 3.2200\n",
            "step: 8060/20000, g_loss_fake: 3.2366\n",
            "step: 8080/20000, g_loss_fake: 2.6393\n",
            "step: 8100/20000, g_loss_fake: 3.4552\n",
            "step: 8120/20000, g_loss_fake: 4.9078\n",
            "step: 8140/20000, g_loss_fake: 3.2607\n",
            "step: 8160/20000, g_loss_fake: 3.2785\n",
            "step: 8180/20000, g_loss_fake: 1.4413\n",
            "step: 8200/20000, g_loss_fake: 3.1736\n",
            "step: 8220/20000, g_loss_fake: 2.3154\n",
            "step: 8240/20000, g_loss_fake: 3.0920\n",
            "step: 8260/20000, g_loss_fake: 3.2695\n",
            "step: 8280/20000, g_loss_fake: 3.4404\n",
            "step: 8300/20000, g_loss_fake: 2.8226\n",
            "step: 8320/20000, g_loss_fake: 3.2478\n",
            "step: 8340/20000, g_loss_fake: 4.9876\n",
            "step: 8360/20000, g_loss_fake: 4.1825\n",
            "step: 8380/20000, g_loss_fake: 2.2645\n",
            "step: 8400/20000, g_loss_fake: 3.6982\n",
            "step: 8420/20000, g_loss_fake: 6.3469\n",
            "step: 8440/20000, g_loss_fake: 3.0021\n",
            "step: 8460/20000, g_loss_fake: 4.1636\n",
            "step: 8480/20000, g_loss_fake: 2.8862\n",
            "step: 8500/20000, g_loss_fake: 2.4363\n"
          ]
        },
        {
          "name": "stderr",
          "output_type": "stream",
          "text": [
            "100%|██████████| 100/100 [00:03<00:00, 31.89it/s]\n"
          ]
        },
        {
          "name": "stdout",
          "output_type": "stream",
          "text": [
            "fake inception score: 2.3346\n"
          ]
        },
        {
          "name": "stderr",
          "output_type": "stream",
          "text": []
        },
        {
          "data": {
            "application/vnd.jupyter.widget-view+json": {
              "model_id": "ba31a23829d442be882caee795ad5fb9",
              "version_major": 2,
              "version_minor": 0
            },
            "text/plain": [
              "get_inception_feature:   0%|          | 0/50000 [00:00<?, ?it/s]"
            ]
          },
          "metadata": {},
          "output_type": "display_data"
        },
        {
          "name": "stdout",
          "output_type": "stream",
          "text": [
            "8499/20000 Inception Score: 2.729(0.02264), FID: 152.922\n",
            "step: 8520/20000, g_loss_fake: 3.8140\n",
            "step: 8540/20000, g_loss_fake: 1.7607\n",
            "step: 8560/20000, g_loss_fake: 4.4501\n",
            "step: 8580/20000, g_loss_fake: 3.0987\n",
            "step: 8600/20000, g_loss_fake: 2.6967\n",
            "step: 8620/20000, g_loss_fake: 2.0046\n",
            "step: 8640/20000, g_loss_fake: 3.3276\n",
            "step: 8660/20000, g_loss_fake: 3.3111\n",
            "step: 8680/20000, g_loss_fake: 2.9687\n",
            "step: 8700/20000, g_loss_fake: 6.1310\n",
            "step: 8720/20000, g_loss_fake: 2.2472\n",
            "step: 8740/20000, g_loss_fake: 2.1619\n",
            "step: 8760/20000, g_loss_fake: 3.1903\n",
            "step: 8780/20000, g_loss_fake: 2.8909\n",
            "step: 8800/20000, g_loss_fake: 3.2100\n",
            "step: 8820/20000, g_loss_fake: 1.6000\n",
            "step: 8840/20000, g_loss_fake: 2.5806\n",
            "step: 8860/20000, g_loss_fake: 2.6787\n",
            "step: 8880/20000, g_loss_fake: 5.0289\n",
            "step: 8900/20000, g_loss_fake: 4.2938\n",
            "step: 8920/20000, g_loss_fake: 2.4144\n",
            "step: 8940/20000, g_loss_fake: 3.7883\n",
            "step: 8960/20000, g_loss_fake: 3.5732\n",
            "step: 8980/20000, g_loss_fake: 3.9246\n",
            "step: 9000/20000, g_loss_fake: 2.8837\n"
          ]
        },
        {
          "name": "stderr",
          "output_type": "stream",
          "text": [
            "100%|██████████| 100/100 [00:03<00:00, 31.62it/s]\n"
          ]
        },
        {
          "name": "stdout",
          "output_type": "stream",
          "text": [
            "fake inception score: 2.7487\n"
          ]
        },
        {
          "name": "stderr",
          "output_type": "stream",
          "text": []
        },
        {
          "data": {
            "application/vnd.jupyter.widget-view+json": {
              "model_id": "5179dbebe3c94d56807fb6dbbb8e88d8",
              "version_major": 2,
              "version_minor": 0
            },
            "text/plain": [
              "get_inception_feature:   0%|          | 0/50000 [00:00<?, ?it/s]"
            ]
          },
          "metadata": {},
          "output_type": "display_data"
        },
        {
          "name": "stdout",
          "output_type": "stream",
          "text": [
            "8999/20000 Inception Score: 3.559(0.02962), FID: 133.542\n",
            "step: 9020/20000, g_loss_fake: 4.1904\n",
            "step: 9040/20000, g_loss_fake: 1.6636\n",
            "step: 9060/20000, g_loss_fake: 2.4582\n",
            "step: 9080/20000, g_loss_fake: 3.0468\n",
            "step: 9100/20000, g_loss_fake: 2.1961\n",
            "step: 9120/20000, g_loss_fake: 1.9749\n",
            "step: 9140/20000, g_loss_fake: 2.3927\n",
            "step: 9160/20000, g_loss_fake: 1.1301\n",
            "step: 9180/20000, g_loss_fake: 1.3087\n",
            "step: 9200/20000, g_loss_fake: 3.8286\n",
            "step: 9220/20000, g_loss_fake: 4.3884\n",
            "step: 9240/20000, g_loss_fake: 4.7670\n",
            "step: 9260/20000, g_loss_fake: 3.6869\n",
            "step: 9280/20000, g_loss_fake: 4.7634\n",
            "step: 9300/20000, g_loss_fake: 3.5789\n",
            "step: 9320/20000, g_loss_fake: 3.5495\n",
            "step: 9340/20000, g_loss_fake: 3.3155\n",
            "step: 9360/20000, g_loss_fake: 3.2334\n",
            "step: 9380/20000, g_loss_fake: 4.9655\n",
            "step: 9400/20000, g_loss_fake: 3.6032\n",
            "step: 9420/20000, g_loss_fake: 2.5381\n",
            "step: 9440/20000, g_loss_fake: 3.2767\n",
            "step: 9460/20000, g_loss_fake: 4.4692\n",
            "step: 9480/20000, g_loss_fake: 3.1736\n",
            "step: 9500/20000, g_loss_fake: 3.3221\n"
          ]
        },
        {
          "name": "stderr",
          "output_type": "stream",
          "text": [
            "100%|██████████| 100/100 [00:03<00:00, 32.20it/s]\n"
          ]
        },
        {
          "name": "stdout",
          "output_type": "stream",
          "text": [
            "fake inception score: 2.5858\n"
          ]
        },
        {
          "name": "stderr",
          "output_type": "stream",
          "text": []
        },
        {
          "data": {
            "application/vnd.jupyter.widget-view+json": {
              "model_id": "463b86843db242c2aacadbec4a0f13a2",
              "version_major": 2,
              "version_minor": 0
            },
            "text/plain": [
              "get_inception_feature:   0%|          | 0/50000 [00:00<?, ?it/s]"
            ]
          },
          "metadata": {},
          "output_type": "display_data"
        },
        {
          "name": "stdout",
          "output_type": "stream",
          "text": [
            "9499/20000 Inception Score: 3.118(0.02418), FID: 138.929\n",
            "step: 9520/20000, g_loss_fake: 3.3857\n",
            "step: 9540/20000, g_loss_fake: 3.3950\n",
            "step: 9560/20000, g_loss_fake: 2.3606\n",
            "step: 9580/20000, g_loss_fake: 1.9624\n",
            "step: 9600/20000, g_loss_fake: 2.2675\n",
            "step: 9620/20000, g_loss_fake: 3.5891\n",
            "step: 9640/20000, g_loss_fake: 4.1700\n",
            "step: 9660/20000, g_loss_fake: 5.9978\n",
            "step: 9680/20000, g_loss_fake: 4.7977\n",
            "step: 9700/20000, g_loss_fake: 5.1505\n",
            "step: 9720/20000, g_loss_fake: 5.1710\n",
            "step: 9740/20000, g_loss_fake: 2.5749\n",
            "step: 9760/20000, g_loss_fake: 5.3921\n",
            "step: 9780/20000, g_loss_fake: 2.0700\n",
            "step: 9800/20000, g_loss_fake: 1.7861\n",
            "step: 9820/20000, g_loss_fake: 3.6867\n",
            "step: 9840/20000, g_loss_fake: 2.7471\n",
            "step: 9860/20000, g_loss_fake: 2.2406\n",
            "step: 9880/20000, g_loss_fake: 3.2469\n",
            "step: 9900/20000, g_loss_fake: 4.6597\n",
            "step: 9920/20000, g_loss_fake: 2.7874\n",
            "step: 9940/20000, g_loss_fake: 4.8214\n",
            "step: 9960/20000, g_loss_fake: 1.6944\n",
            "step: 9980/20000, g_loss_fake: 2.1015\n",
            "step: 10000/20000, g_loss_fake: 2.4415\n"
          ]
        },
        {
          "name": "stderr",
          "output_type": "stream",
          "text": [
            "100%|██████████| 100/100 [00:03<00:00, 32.02it/s]\n"
          ]
        },
        {
          "name": "stdout",
          "output_type": "stream",
          "text": [
            "fake inception score: 2.6115\n"
          ]
        },
        {
          "name": "stderr",
          "output_type": "stream",
          "text": []
        },
        {
          "data": {
            "application/vnd.jupyter.widget-view+json": {
              "model_id": "b6b098380a324cacbda43279c76b501f",
              "version_major": 2,
              "version_minor": 0
            },
            "text/plain": [
              "get_inception_feature:   0%|          | 0/50000 [00:00<?, ?it/s]"
            ]
          },
          "metadata": {},
          "output_type": "display_data"
        },
        {
          "name": "stdout",
          "output_type": "stream",
          "text": [
            "9999/20000 Inception Score: 3.341(0.04408), FID: 134.419\n",
            "step: 10020/20000, g_loss_fake: 1.7500\n",
            "step: 10040/20000, g_loss_fake: 4.5561\n",
            "step: 10060/20000, g_loss_fake: 4.3649\n",
            "step: 10080/20000, g_loss_fake: 3.8046\n",
            "step: 10100/20000, g_loss_fake: 2.5881\n",
            "step: 10120/20000, g_loss_fake: 4.0050\n",
            "step: 10140/20000, g_loss_fake: 3.0451\n",
            "step: 10160/20000, g_loss_fake: 11.4542\n",
            "step: 10180/20000, g_loss_fake: 2.8269\n",
            "step: 10200/20000, g_loss_fake: 3.0717\n",
            "step: 10220/20000, g_loss_fake: 4.2175\n",
            "step: 10240/20000, g_loss_fake: 2.2461\n",
            "step: 10260/20000, g_loss_fake: 4.9796\n",
            "step: 10280/20000, g_loss_fake: 3.7779\n",
            "step: 10300/20000, g_loss_fake: 4.6669\n",
            "step: 10320/20000, g_loss_fake: 2.5323\n",
            "step: 10340/20000, g_loss_fake: 3.2802\n",
            "step: 10360/20000, g_loss_fake: 2.9751\n",
            "step: 10380/20000, g_loss_fake: 6.7120\n",
            "step: 10400/20000, g_loss_fake: 2.4582\n",
            "step: 10420/20000, g_loss_fake: 5.0781\n",
            "step: 10440/20000, g_loss_fake: 3.0317\n",
            "step: 10460/20000, g_loss_fake: 1.7339\n",
            "step: 10480/20000, g_loss_fake: 4.0660\n",
            "step: 10500/20000, g_loss_fake: 4.3629\n"
          ]
        },
        {
          "name": "stderr",
          "output_type": "stream",
          "text": [
            "100%|██████████| 100/100 [00:03<00:00, 32.22it/s]\n"
          ]
        },
        {
          "name": "stdout",
          "output_type": "stream",
          "text": [
            "fake inception score: 3.0785\n"
          ]
        },
        {
          "name": "stderr",
          "output_type": "stream",
          "text": []
        },
        {
          "data": {
            "application/vnd.jupyter.widget-view+json": {
              "model_id": "00f6127d7801448e82c99dc2bd0b9b60",
              "version_major": 2,
              "version_minor": 0
            },
            "text/plain": [
              "get_inception_feature:   0%|          | 0/50000 [00:00<?, ?it/s]"
            ]
          },
          "metadata": {},
          "output_type": "display_data"
        },
        {
          "name": "stdout",
          "output_type": "stream",
          "text": [
            "10499/20000 Inception Score: 3.655(0.03174), FID: 125.782\n",
            "step: 10520/20000, g_loss_fake: 5.3052\n",
            "step: 10540/20000, g_loss_fake: 4.1543\n",
            "step: 10560/20000, g_loss_fake: 4.9352\n",
            "step: 10580/20000, g_loss_fake: 4.4355\n",
            "step: 10600/20000, g_loss_fake: 2.0434\n",
            "step: 10620/20000, g_loss_fake: 3.2872\n",
            "step: 10640/20000, g_loss_fake: 2.3381\n",
            "step: 10660/20000, g_loss_fake: 6.6919\n",
            "step: 10680/20000, g_loss_fake: 5.8767\n",
            "step: 10700/20000, g_loss_fake: 4.7941\n",
            "step: 10720/20000, g_loss_fake: 5.8620\n",
            "step: 10740/20000, g_loss_fake: 4.3545\n",
            "step: 10760/20000, g_loss_fake: 2.2371\n",
            "step: 10780/20000, g_loss_fake: 3.3935\n",
            "step: 10800/20000, g_loss_fake: 3.4792\n",
            "step: 10820/20000, g_loss_fake: 3.1172\n",
            "step: 10840/20000, g_loss_fake: 2.0492\n",
            "step: 10860/20000, g_loss_fake: 3.9735\n",
            "step: 10880/20000, g_loss_fake: 3.2035\n",
            "step: 10900/20000, g_loss_fake: 4.7563\n",
            "step: 10920/20000, g_loss_fake: 4.4191\n",
            "step: 10940/20000, g_loss_fake: 4.3276\n",
            "step: 10960/20000, g_loss_fake: 2.6524\n",
            "step: 10980/20000, g_loss_fake: 5.5640\n",
            "step: 11000/20000, g_loss_fake: 4.0936\n"
          ]
        },
        {
          "name": "stderr",
          "output_type": "stream",
          "text": [
            "100%|██████████| 100/100 [00:03<00:00, 31.51it/s]\n"
          ]
        },
        {
          "name": "stdout",
          "output_type": "stream",
          "text": [
            "fake inception score: 2.9466\n"
          ]
        },
        {
          "name": "stderr",
          "output_type": "stream",
          "text": []
        },
        {
          "data": {
            "application/vnd.jupyter.widget-view+json": {
              "model_id": "9d34865873f04e9e9d7fc312be900bfc",
              "version_major": 2,
              "version_minor": 0
            },
            "text/plain": [
              "get_inception_feature:   0%|          | 0/50000 [00:00<?, ?it/s]"
            ]
          },
          "metadata": {},
          "output_type": "display_data"
        },
        {
          "name": "stdout",
          "output_type": "stream",
          "text": [
            "10999/20000 Inception Score: 3.595(0.03817), FID: 133.090\n",
            "step: 11020/20000, g_loss_fake: 4.3855\n",
            "step: 11040/20000, g_loss_fake: 2.9670\n",
            "step: 11060/20000, g_loss_fake: 2.7877\n",
            "step: 11080/20000, g_loss_fake: 2.6657\n",
            "step: 11100/20000, g_loss_fake: 2.4079\n",
            "step: 11120/20000, g_loss_fake: 2.2999\n",
            "step: 11140/20000, g_loss_fake: 1.5909\n",
            "step: 11160/20000, g_loss_fake: 2.3226\n",
            "step: 11180/20000, g_loss_fake: 7.1106\n",
            "step: 11200/20000, g_loss_fake: 5.2396\n",
            "step: 11220/20000, g_loss_fake: 3.9343\n",
            "step: 11240/20000, g_loss_fake: 2.3537\n",
            "step: 11260/20000, g_loss_fake: 4.4902\n",
            "step: 11280/20000, g_loss_fake: 2.8386\n",
            "step: 11300/20000, g_loss_fake: 1.8762\n",
            "step: 11320/20000, g_loss_fake: 1.8770\n",
            "step: 11340/20000, g_loss_fake: 4.9584\n",
            "step: 11360/20000, g_loss_fake: 2.2237\n",
            "step: 11380/20000, g_loss_fake: 2.2653\n",
            "step: 11400/20000, g_loss_fake: 2.7801\n",
            "step: 11420/20000, g_loss_fake: 2.9495\n",
            "step: 11440/20000, g_loss_fake: 4.1021\n",
            "step: 11460/20000, g_loss_fake: 3.9473\n",
            "step: 11480/20000, g_loss_fake: 3.1985\n",
            "step: 11500/20000, g_loss_fake: 3.0778\n"
          ]
        },
        {
          "name": "stderr",
          "output_type": "stream",
          "text": [
            "100%|██████████| 100/100 [00:03<00:00, 31.60it/s]\n"
          ]
        },
        {
          "name": "stdout",
          "output_type": "stream",
          "text": [
            "fake inception score: 2.3979\n"
          ]
        },
        {
          "name": "stderr",
          "output_type": "stream",
          "text": []
        },
        {
          "data": {
            "application/vnd.jupyter.widget-view+json": {
              "model_id": "2915dbfc41ca4d8298e99a990e4cfd4a",
              "version_major": 2,
              "version_minor": 0
            },
            "text/plain": [
              "get_inception_feature:   0%|          | 0/50000 [00:00<?, ?it/s]"
            ]
          },
          "metadata": {},
          "output_type": "display_data"
        },
        {
          "name": "stdout",
          "output_type": "stream",
          "text": [
            "11499/20000 Inception Score: 2.909(0.02916), FID: 135.992\n",
            "step: 11520/20000, g_loss_fake: 2.7791\n",
            "step: 11540/20000, g_loss_fake: 3.8595\n",
            "step: 11560/20000, g_loss_fake: 1.9540\n",
            "step: 11580/20000, g_loss_fake: 4.2748\n",
            "step: 11600/20000, g_loss_fake: 3.6722\n",
            "step: 11620/20000, g_loss_fake: 3.5772\n",
            "step: 11640/20000, g_loss_fake: 3.1912\n",
            "step: 11660/20000, g_loss_fake: 1.5398\n",
            "step: 11680/20000, g_loss_fake: 3.1829\n",
            "step: 11700/20000, g_loss_fake: 1.6497\n",
            "step: 11720/20000, g_loss_fake: 4.7272\n",
            "step: 11740/20000, g_loss_fake: 4.4258\n",
            "step: 11760/20000, g_loss_fake: 2.9430\n",
            "step: 11780/20000, g_loss_fake: 3.4033\n",
            "step: 11800/20000, g_loss_fake: 3.3512\n",
            "step: 11820/20000, g_loss_fake: 6.6210\n",
            "step: 11840/20000, g_loss_fake: 2.1672\n",
            "step: 11860/20000, g_loss_fake: 2.0699\n",
            "step: 11880/20000, g_loss_fake: 1.7655\n",
            "step: 11900/20000, g_loss_fake: 2.0425\n",
            "step: 11920/20000, g_loss_fake: 1.5222\n",
            "step: 11940/20000, g_loss_fake: 2.0474\n",
            "step: 11960/20000, g_loss_fake: 1.2704\n",
            "step: 11980/20000, g_loss_fake: 3.9035\n",
            "step: 12000/20000, g_loss_fake: 3.3959\n"
          ]
        },
        {
          "name": "stderr",
          "output_type": "stream",
          "text": [
            "100%|██████████| 100/100 [00:03<00:00, 31.51it/s]\n"
          ]
        },
        {
          "name": "stdout",
          "output_type": "stream",
          "text": [
            "fake inception score: 2.8016\n"
          ]
        },
        {
          "name": "stderr",
          "output_type": "stream",
          "text": []
        },
        {
          "data": {
            "application/vnd.jupyter.widget-view+json": {
              "model_id": "54eac5ae3e9b48e490319b05661ab2d6",
              "version_major": 2,
              "version_minor": 0
            },
            "text/plain": [
              "get_inception_feature:   0%|          | 0/50000 [00:00<?, ?it/s]"
            ]
          },
          "metadata": {},
          "output_type": "display_data"
        },
        {
          "name": "stdout",
          "output_type": "stream",
          "text": [
            "11999/20000 Inception Score: 3.418(0.02335), FID: 125.313\n",
            "step: 12020/20000, g_loss_fake: 3.6782\n",
            "step: 12040/20000, g_loss_fake: 5.8479\n",
            "step: 12060/20000, g_loss_fake: 2.7996\n",
            "step: 12080/20000, g_loss_fake: 1.5808\n",
            "step: 12100/20000, g_loss_fake: 3.6729\n",
            "step: 12120/20000, g_loss_fake: 1.5391\n",
            "step: 12140/20000, g_loss_fake: 1.2258\n",
            "step: 12160/20000, g_loss_fake: 3.3762\n",
            "step: 12180/20000, g_loss_fake: 2.4255\n",
            "step: 12200/20000, g_loss_fake: 2.2099\n",
            "step: 12220/20000, g_loss_fake: 2.2940\n",
            "step: 12240/20000, g_loss_fake: 2.8902\n",
            "step: 12260/20000, g_loss_fake: 5.0514\n",
            "step: 12280/20000, g_loss_fake: 1.7108\n",
            "step: 12300/20000, g_loss_fake: 4.0401\n",
            "step: 12320/20000, g_loss_fake: 1.4535\n",
            "step: 12340/20000, g_loss_fake: 3.9248\n",
            "step: 12360/20000, g_loss_fake: 2.3286\n",
            "step: 12380/20000, g_loss_fake: 8.3210\n",
            "step: 12400/20000, g_loss_fake: 2.5658\n",
            "step: 12420/20000, g_loss_fake: 2.8754\n",
            "step: 12440/20000, g_loss_fake: 2.1133\n",
            "step: 12460/20000, g_loss_fake: 6.1290\n",
            "step: 12480/20000, g_loss_fake: 3.2867\n",
            "step: 12500/20000, g_loss_fake: 4.7121\n"
          ]
        },
        {
          "name": "stderr",
          "output_type": "stream",
          "text": [
            "100%|██████████| 100/100 [00:03<00:00, 31.50it/s]\n"
          ]
        },
        {
          "name": "stdout",
          "output_type": "stream",
          "text": [
            "fake inception score: 2.6278\n"
          ]
        },
        {
          "name": "stderr",
          "output_type": "stream",
          "text": []
        },
        {
          "data": {
            "application/vnd.jupyter.widget-view+json": {
              "model_id": "5e558ce156af415f843e3d808047616e",
              "version_major": 2,
              "version_minor": 0
            },
            "text/plain": [
              "get_inception_feature:   0%|          | 0/50000 [00:00<?, ?it/s]"
            ]
          },
          "metadata": {},
          "output_type": "display_data"
        },
        {
          "name": "stdout",
          "output_type": "stream",
          "text": [
            "12499/20000 Inception Score: 3.000(0.01917), FID: 130.230\n",
            "step: 12520/20000, g_loss_fake: 2.8163\n",
            "step: 12540/20000, g_loss_fake: 4.3647\n",
            "step: 12560/20000, g_loss_fake: 1.6771\n",
            "step: 12580/20000, g_loss_fake: 7.5524\n",
            "step: 12600/20000, g_loss_fake: 3.4954\n",
            "step: 12620/20000, g_loss_fake: 2.9228\n",
            "step: 12640/20000, g_loss_fake: 2.7121\n",
            "step: 12660/20000, g_loss_fake: 6.1803\n",
            "step: 12680/20000, g_loss_fake: 4.1302\n",
            "step: 12700/20000, g_loss_fake: 2.4841\n",
            "step: 12720/20000, g_loss_fake: 4.5051\n",
            "step: 12740/20000, g_loss_fake: 6.5817\n",
            "step: 12760/20000, g_loss_fake: 1.3516\n",
            "step: 12780/20000, g_loss_fake: 3.4355\n",
            "step: 12800/20000, g_loss_fake: 1.5842\n",
            "step: 12820/20000, g_loss_fake: 6.4134\n",
            "step: 12840/20000, g_loss_fake: 3.7508\n",
            "step: 12860/20000, g_loss_fake: 1.1201\n",
            "step: 12880/20000, g_loss_fake: 10.2470\n",
            "step: 12900/20000, g_loss_fake: 2.5152\n",
            "step: 12920/20000, g_loss_fake: 3.6972\n",
            "step: 12940/20000, g_loss_fake: 2.0621\n",
            "step: 12960/20000, g_loss_fake: 3.2072\n",
            "step: 12980/20000, g_loss_fake: 3.1778\n",
            "step: 13000/20000, g_loss_fake: 6.2878\n"
          ]
        },
        {
          "name": "stderr",
          "output_type": "stream",
          "text": [
            "100%|██████████| 100/100 [00:03<00:00, 32.00it/s]\n"
          ]
        },
        {
          "name": "stdout",
          "output_type": "stream",
          "text": [
            "fake inception score: 2.7580\n"
          ]
        },
        {
          "name": "stderr",
          "output_type": "stream",
          "text": []
        },
        {
          "data": {
            "application/vnd.jupyter.widget-view+json": {
              "model_id": "41168ed36c644e09989506e676a44b91",
              "version_major": 2,
              "version_minor": 0
            },
            "text/plain": [
              "get_inception_feature:   0%|          | 0/50000 [00:00<?, ?it/s]"
            ]
          },
          "metadata": {},
          "output_type": "display_data"
        },
        {
          "name": "stdout",
          "output_type": "stream",
          "text": [
            "12999/20000 Inception Score: 3.123(0.03243), FID: 127.058\n",
            "step: 13020/20000, g_loss_fake: 3.1083\n",
            "step: 13040/20000, g_loss_fake: 2.1662\n",
            "step: 13060/20000, g_loss_fake: 4.2697\n",
            "step: 13080/20000, g_loss_fake: 4.8226\n",
            "step: 13100/20000, g_loss_fake: 3.0354\n",
            "step: 13120/20000, g_loss_fake: 2.6972\n",
            "step: 13140/20000, g_loss_fake: 1.2302\n",
            "step: 13160/20000, g_loss_fake: 1.7122\n",
            "step: 13180/20000, g_loss_fake: 3.6947\n",
            "step: 13200/20000, g_loss_fake: 3.2173\n",
            "step: 13220/20000, g_loss_fake: 2.4086\n",
            "step: 13240/20000, g_loss_fake: 1.9329\n",
            "step: 13260/20000, g_loss_fake: 4.8068\n",
            "step: 13280/20000, g_loss_fake: 3.5000\n",
            "step: 13300/20000, g_loss_fake: 3.8153\n",
            "step: 13320/20000, g_loss_fake: 2.4133\n",
            "step: 13340/20000, g_loss_fake: 3.4792\n",
            "step: 13360/20000, g_loss_fake: 5.6178\n",
            "step: 13380/20000, g_loss_fake: 2.5301\n",
            "step: 13400/20000, g_loss_fake: 2.2508\n",
            "step: 13420/20000, g_loss_fake: 2.4141\n",
            "step: 13440/20000, g_loss_fake: 6.3074\n",
            "step: 13460/20000, g_loss_fake: 3.9836\n",
            "step: 13480/20000, g_loss_fake: 2.8037\n",
            "step: 13500/20000, g_loss_fake: 2.1311\n"
          ]
        },
        {
          "name": "stderr",
          "output_type": "stream",
          "text": [
            "100%|██████████| 100/100 [00:03<00:00, 32.19it/s]\n"
          ]
        },
        {
          "name": "stdout",
          "output_type": "stream",
          "text": [
            "fake inception score: 2.6727\n"
          ]
        },
        {
          "name": "stderr",
          "output_type": "stream",
          "text": []
        },
        {
          "data": {
            "application/vnd.jupyter.widget-view+json": {
              "model_id": "1676421fdc004e1bbe8ac2a3dc6f9988",
              "version_major": 2,
              "version_minor": 0
            },
            "text/plain": [
              "get_inception_feature:   0%|          | 0/50000 [00:00<?, ?it/s]"
            ]
          },
          "metadata": {},
          "output_type": "display_data"
        },
        {
          "name": "stdout",
          "output_type": "stream",
          "text": [
            "13499/20000 Inception Score: 3.221(0.02026), FID: 122.600\n",
            "step: 13520/20000, g_loss_fake: 2.4381\n",
            "step: 13540/20000, g_loss_fake: 2.7894\n",
            "step: 13560/20000, g_loss_fake: 4.5435\n",
            "step: 13580/20000, g_loss_fake: 2.4615\n",
            "step: 13600/20000, g_loss_fake: 4.1927\n",
            "step: 13620/20000, g_loss_fake: 3.0907\n",
            "step: 13640/20000, g_loss_fake: 1.7248\n",
            "step: 13660/20000, g_loss_fake: 2.8514\n",
            "step: 13680/20000, g_loss_fake: 2.9768\n",
            "step: 13700/20000, g_loss_fake: 3.5775\n",
            "step: 13720/20000, g_loss_fake: 2.6207\n",
            "step: 13740/20000, g_loss_fake: 3.8029\n",
            "step: 13760/20000, g_loss_fake: 3.1055\n",
            "step: 13780/20000, g_loss_fake: 3.8056\n",
            "step: 13800/20000, g_loss_fake: 2.7667\n",
            "step: 13820/20000, g_loss_fake: 1.9392\n",
            "step: 13840/20000, g_loss_fake: 3.5717\n",
            "step: 13860/20000, g_loss_fake: 2.2672\n",
            "step: 13880/20000, g_loss_fake: 5.1658\n",
            "step: 13900/20000, g_loss_fake: 3.6466\n",
            "step: 13920/20000, g_loss_fake: 4.6708\n",
            "step: 13940/20000, g_loss_fake: 3.8031\n",
            "step: 13960/20000, g_loss_fake: 4.1890\n",
            "step: 13980/20000, g_loss_fake: 1.3775\n",
            "step: 14000/20000, g_loss_fake: 2.0835\n"
          ]
        },
        {
          "name": "stderr",
          "output_type": "stream",
          "text": [
            "100%|██████████| 100/100 [00:03<00:00, 31.38it/s]\n"
          ]
        },
        {
          "name": "stdout",
          "output_type": "stream",
          "text": [
            "fake inception score: 2.6810\n"
          ]
        },
        {
          "name": "stderr",
          "output_type": "stream",
          "text": []
        },
        {
          "data": {
            "application/vnd.jupyter.widget-view+json": {
              "model_id": "291ed280f1da4e5d93234bf97175b631",
              "version_major": 2,
              "version_minor": 0
            },
            "text/plain": [
              "get_inception_feature:   0%|          | 0/50000 [00:00<?, ?it/s]"
            ]
          },
          "metadata": {},
          "output_type": "display_data"
        },
        {
          "name": "stdout",
          "output_type": "stream",
          "text": [
            "13999/20000 Inception Score: 3.156(0.02575), FID: 126.738\n",
            "step: 14020/20000, g_loss_fake: 3.5088\n",
            "step: 14040/20000, g_loss_fake: 1.8620\n",
            "step: 14060/20000, g_loss_fake: 4.0956\n",
            "step: 14080/20000, g_loss_fake: 1.9534\n",
            "step: 14100/20000, g_loss_fake: 2.0422\n",
            "step: 14120/20000, g_loss_fake: 3.3043\n",
            "step: 14140/20000, g_loss_fake: 2.8094\n",
            "step: 14160/20000, g_loss_fake: 2.6841\n",
            "step: 14180/20000, g_loss_fake: 4.0633\n",
            "step: 14200/20000, g_loss_fake: 4.1649\n",
            "step: 14220/20000, g_loss_fake: 2.5420\n",
            "step: 14240/20000, g_loss_fake: 0.9829\n",
            "step: 14260/20000, g_loss_fake: 5.3388\n",
            "step: 14280/20000, g_loss_fake: 3.6340\n",
            "step: 14300/20000, g_loss_fake: 4.1116\n",
            "step: 14320/20000, g_loss_fake: 4.2352\n",
            "step: 14340/20000, g_loss_fake: 2.4092\n",
            "step: 14360/20000, g_loss_fake: 2.7750\n",
            "step: 14380/20000, g_loss_fake: 2.1263\n",
            "step: 14400/20000, g_loss_fake: 3.4359\n",
            "step: 14420/20000, g_loss_fake: 3.3460\n",
            "step: 14440/20000, g_loss_fake: 2.8232\n",
            "step: 14460/20000, g_loss_fake: 2.9171\n",
            "step: 14480/20000, g_loss_fake: 2.8761\n",
            "step: 14500/20000, g_loss_fake: 4.6585\n"
          ]
        },
        {
          "name": "stderr",
          "output_type": "stream",
          "text": [
            "100%|██████████| 100/100 [00:03<00:00, 31.30it/s]\n"
          ]
        },
        {
          "name": "stdout",
          "output_type": "stream",
          "text": [
            "fake inception score: 2.8485\n"
          ]
        },
        {
          "name": "stderr",
          "output_type": "stream",
          "text": []
        },
        {
          "data": {
            "application/vnd.jupyter.widget-view+json": {
              "model_id": "58602de2d31244ef81a98864903bbbe2",
              "version_major": 2,
              "version_minor": 0
            },
            "text/plain": [
              "get_inception_feature:   0%|          | 0/50000 [00:00<?, ?it/s]"
            ]
          },
          "metadata": {},
          "output_type": "display_data"
        },
        {
          "name": "stdout",
          "output_type": "stream",
          "text": [
            "14499/20000 Inception Score: 3.239(0.01218), FID: 128.393\n",
            "step: 14520/20000, g_loss_fake: 3.5314\n",
            "step: 14540/20000, g_loss_fake: 1.5618\n",
            "step: 14560/20000, g_loss_fake: 2.9717\n",
            "step: 14580/20000, g_loss_fake: 1.6535\n",
            "step: 14600/20000, g_loss_fake: 2.4776\n",
            "step: 14620/20000, g_loss_fake: 3.3062\n",
            "step: 14640/20000, g_loss_fake: 2.3389\n",
            "step: 14660/20000, g_loss_fake: 2.3156\n",
            "step: 14680/20000, g_loss_fake: 3.2242\n",
            "step: 14700/20000, g_loss_fake: 2.1321\n",
            "step: 14720/20000, g_loss_fake: 2.9293\n",
            "step: 14740/20000, g_loss_fake: 2.7417\n",
            "step: 14760/20000, g_loss_fake: 5.5244\n",
            "step: 14780/20000, g_loss_fake: 3.2512\n",
            "step: 14800/20000, g_loss_fake: 2.3260\n",
            "step: 14820/20000, g_loss_fake: 2.7996\n",
            "step: 14840/20000, g_loss_fake: 3.4982\n",
            "step: 14860/20000, g_loss_fake: 3.3156\n",
            "step: 14880/20000, g_loss_fake: 2.3470\n",
            "step: 14900/20000, g_loss_fake: 1.6267\n",
            "step: 14920/20000, g_loss_fake: 2.0874\n",
            "step: 14940/20000, g_loss_fake: 2.2868\n",
            "step: 14960/20000, g_loss_fake: 2.9934\n",
            "step: 14980/20000, g_loss_fake: 1.9546\n",
            "step: 15000/20000, g_loss_fake: 2.1194\n"
          ]
        },
        {
          "name": "stderr",
          "output_type": "stream",
          "text": [
            "100%|██████████| 100/100 [00:03<00:00, 31.40it/s]\n"
          ]
        },
        {
          "name": "stdout",
          "output_type": "stream",
          "text": [
            "fake inception score: 2.7536\n"
          ]
        },
        {
          "name": "stderr",
          "output_type": "stream",
          "text": []
        },
        {
          "data": {
            "application/vnd.jupyter.widget-view+json": {
              "model_id": "edae8cea6fba45baaf07bcfc83c63562",
              "version_major": 2,
              "version_minor": 0
            },
            "text/plain": [
              "get_inception_feature:   0%|          | 0/50000 [00:00<?, ?it/s]"
            ]
          },
          "metadata": {},
          "output_type": "display_data"
        },
        {
          "name": "stdout",
          "output_type": "stream",
          "text": [
            "14999/20000 Inception Score: 3.246(0.01817), FID: 120.148\n",
            "step: 15020/20000, g_loss_fake: 2.1376\n",
            "step: 15040/20000, g_loss_fake: 3.8898\n",
            "step: 15060/20000, g_loss_fake: 5.0493\n",
            "step: 15080/20000, g_loss_fake: 3.5193\n",
            "step: 15100/20000, g_loss_fake: 3.4917\n",
            "step: 15120/20000, g_loss_fake: 4.1965\n",
            "step: 15140/20000, g_loss_fake: 2.2656\n",
            "step: 15160/20000, g_loss_fake: 2.4799\n",
            "step: 15180/20000, g_loss_fake: 2.0433\n",
            "step: 15200/20000, g_loss_fake: 2.1213\n",
            "step: 15220/20000, g_loss_fake: 0.4117\n",
            "step: 15240/20000, g_loss_fake: 2.0258\n",
            "step: 15260/20000, g_loss_fake: 2.8022\n",
            "step: 15280/20000, g_loss_fake: 2.1264\n",
            "step: 15300/20000, g_loss_fake: 3.1375\n",
            "step: 15320/20000, g_loss_fake: 3.3142\n",
            "step: 15340/20000, g_loss_fake: 2.9129\n",
            "step: 15360/20000, g_loss_fake: 3.2995\n",
            "step: 15380/20000, g_loss_fake: 2.0906\n",
            "step: 15400/20000, g_loss_fake: 3.1871\n",
            "step: 15420/20000, g_loss_fake: 1.8881\n",
            "step: 15440/20000, g_loss_fake: 2.3192\n",
            "step: 15460/20000, g_loss_fake: 1.5047\n",
            "step: 15480/20000, g_loss_fake: 2.3075\n",
            "step: 15500/20000, g_loss_fake: 3.3325\n"
          ]
        },
        {
          "name": "stderr",
          "output_type": "stream",
          "text": [
            "100%|██████████| 100/100 [00:03<00:00, 32.30it/s]\n"
          ]
        },
        {
          "name": "stdout",
          "output_type": "stream",
          "text": [
            "fake inception score: 2.8976\n"
          ]
        },
        {
          "name": "stderr",
          "output_type": "stream",
          "text": []
        },
        {
          "data": {
            "application/vnd.jupyter.widget-view+json": {
              "model_id": "2b5317e20ff44f1fa0793dbe4f60fd90",
              "version_major": 2,
              "version_minor": 0
            },
            "text/plain": [
              "get_inception_feature:   0%|          | 0/50000 [00:00<?, ?it/s]"
            ]
          },
          "metadata": {},
          "output_type": "display_data"
        },
        {
          "name": "stdout",
          "output_type": "stream",
          "text": [
            "15499/20000 Inception Score: 3.485(0.04159), FID: 113.275\n",
            "step: 15520/20000, g_loss_fake: 3.6375\n",
            "step: 15540/20000, g_loss_fake: 3.2916\n",
            "step: 15560/20000, g_loss_fake: 2.8231\n",
            "step: 15580/20000, g_loss_fake: 1.3743\n",
            "step: 15600/20000, g_loss_fake: 1.9971\n",
            "step: 15620/20000, g_loss_fake: 2.2202\n",
            "step: 15640/20000, g_loss_fake: 1.9872\n",
            "step: 15660/20000, g_loss_fake: 2.4884\n",
            "step: 15680/20000, g_loss_fake: 3.5696\n",
            "step: 15700/20000, g_loss_fake: 1.7731\n",
            "step: 15720/20000, g_loss_fake: 2.0532\n",
            "step: 15740/20000, g_loss_fake: 2.2765\n",
            "step: 15760/20000, g_loss_fake: 3.6040\n",
            "step: 15780/20000, g_loss_fake: 4.9407\n",
            "step: 15800/20000, g_loss_fake: 2.4109\n",
            "step: 15820/20000, g_loss_fake: 2.1318\n",
            "step: 15840/20000, g_loss_fake: 2.2786\n",
            "step: 15860/20000, g_loss_fake: 2.6796\n",
            "step: 15880/20000, g_loss_fake: 6.8025\n",
            "step: 15900/20000, g_loss_fake: 2.2564\n",
            "step: 15920/20000, g_loss_fake: 1.5394\n",
            "step: 15940/20000, g_loss_fake: 3.1928\n",
            "step: 15960/20000, g_loss_fake: 3.4027\n",
            "step: 15980/20000, g_loss_fake: 1.6699\n",
            "step: 16000/20000, g_loss_fake: 1.8876\n"
          ]
        },
        {
          "name": "stderr",
          "output_type": "stream",
          "text": [
            "100%|██████████| 100/100 [00:03<00:00, 32.10it/s]\n"
          ]
        },
        {
          "name": "stdout",
          "output_type": "stream",
          "text": [
            "fake inception score: 3.0008\n"
          ]
        },
        {
          "name": "stderr",
          "output_type": "stream",
          "text": []
        },
        {
          "data": {
            "application/vnd.jupyter.widget-view+json": {
              "model_id": "fe4dbf84b8874c6f8c79f30d0d83431a",
              "version_major": 2,
              "version_minor": 0
            },
            "text/plain": [
              "get_inception_feature:   0%|          | 0/50000 [00:00<?, ?it/s]"
            ]
          },
          "metadata": {},
          "output_type": "display_data"
        },
        {
          "name": "stdout",
          "output_type": "stream",
          "text": [
            "15999/20000 Inception Score: 3.531(0.02956), FID: 116.491\n",
            "step: 16020/20000, g_loss_fake: 1.8935\n",
            "step: 16040/20000, g_loss_fake: 2.9901\n",
            "step: 16060/20000, g_loss_fake: 4.2380\n",
            "step: 16080/20000, g_loss_fake: 3.0293\n",
            "step: 16100/20000, g_loss_fake: 2.7597\n",
            "step: 16120/20000, g_loss_fake: 3.8109\n",
            "step: 16140/20000, g_loss_fake: 3.9051\n",
            "step: 16160/20000, g_loss_fake: 4.2340\n",
            "step: 16180/20000, g_loss_fake: 1.5877\n",
            "step: 16200/20000, g_loss_fake: 5.3602\n",
            "step: 16220/20000, g_loss_fake: 2.0715\n",
            "step: 16240/20000, g_loss_fake: 3.0760\n",
            "step: 16260/20000, g_loss_fake: 2.2257\n",
            "step: 16280/20000, g_loss_fake: 2.2850\n",
            "step: 16300/20000, g_loss_fake: 1.4025\n",
            "step: 16320/20000, g_loss_fake: 3.4258\n",
            "step: 16340/20000, g_loss_fake: 2.8874\n",
            "step: 16360/20000, g_loss_fake: 5.0032\n",
            "step: 16380/20000, g_loss_fake: 4.8855\n",
            "step: 16400/20000, g_loss_fake: 2.5924\n",
            "step: 16420/20000, g_loss_fake: 5.5872\n",
            "step: 16440/20000, g_loss_fake: 7.2191\n",
            "step: 16460/20000, g_loss_fake: 5.4179\n",
            "step: 16480/20000, g_loss_fake: 2.3045\n",
            "step: 16500/20000, g_loss_fake: 2.6580\n"
          ]
        },
        {
          "name": "stderr",
          "output_type": "stream",
          "text": [
            "100%|██████████| 100/100 [00:03<00:00, 32.13it/s]\n"
          ]
        },
        {
          "name": "stdout",
          "output_type": "stream",
          "text": [
            "fake inception score: 3.0293\n"
          ]
        },
        {
          "name": "stderr",
          "output_type": "stream",
          "text": []
        },
        {
          "data": {
            "application/vnd.jupyter.widget-view+json": {
              "model_id": "90361bee9d3a4788b78c3ee81a50f905",
              "version_major": 2,
              "version_minor": 0
            },
            "text/plain": [
              "get_inception_feature:   0%|          | 0/50000 [00:00<?, ?it/s]"
            ]
          },
          "metadata": {},
          "output_type": "display_data"
        },
        {
          "name": "stdout",
          "output_type": "stream",
          "text": [
            "16499/20000 Inception Score: 3.848(0.04360), FID: 107.991\n",
            "step: 16520/20000, g_loss_fake: 5.2057\n",
            "step: 16540/20000, g_loss_fake: 6.4308\n",
            "step: 16560/20000, g_loss_fake: 4.6213\n",
            "step: 16580/20000, g_loss_fake: 4.4323\n",
            "step: 16600/20000, g_loss_fake: 3.2698\n",
            "step: 16620/20000, g_loss_fake: 4.3202\n",
            "step: 16640/20000, g_loss_fake: 2.7248\n",
            "step: 16660/20000, g_loss_fake: 7.5742\n",
            "step: 16680/20000, g_loss_fake: 4.7668\n",
            "step: 16700/20000, g_loss_fake: 3.6375\n",
            "step: 16720/20000, g_loss_fake: 1.6810\n",
            "step: 16740/20000, g_loss_fake: 1.9509\n",
            "step: 16760/20000, g_loss_fake: 7.0257\n",
            "step: 16780/20000, g_loss_fake: 2.5368\n",
            "step: 16800/20000, g_loss_fake: 3.6095\n",
            "step: 16820/20000, g_loss_fake: 5.0648\n",
            "step: 16840/20000, g_loss_fake: 3.5653\n",
            "step: 16860/20000, g_loss_fake: 3.8686\n",
            "step: 16880/20000, g_loss_fake: 6.3057\n",
            "step: 16900/20000, g_loss_fake: 4.5915\n",
            "step: 16920/20000, g_loss_fake: 6.2886\n",
            "step: 16940/20000, g_loss_fake: 5.0378\n",
            "step: 16960/20000, g_loss_fake: 4.7171\n",
            "step: 16980/20000, g_loss_fake: 4.0457\n",
            "step: 17000/20000, g_loss_fake: 2.9840\n"
          ]
        },
        {
          "name": "stderr",
          "output_type": "stream",
          "text": [
            "100%|██████████| 100/100 [00:03<00:00, 32.22it/s]\n"
          ]
        },
        {
          "name": "stdout",
          "output_type": "stream",
          "text": [
            "fake inception score: 2.7400\n"
          ]
        },
        {
          "name": "stderr",
          "output_type": "stream",
          "text": []
        },
        {
          "data": {
            "application/vnd.jupyter.widget-view+json": {
              "model_id": "8388819bd1d2488a8ceab3aa95e2e86a",
              "version_major": 2,
              "version_minor": 0
            },
            "text/plain": [
              "get_inception_feature:   0%|          | 0/50000 [00:00<?, ?it/s]"
            ]
          },
          "metadata": {},
          "output_type": "display_data"
        },
        {
          "name": "stdout",
          "output_type": "stream",
          "text": [
            "16999/20000 Inception Score: 3.761(0.03974), FID: 124.459\n",
            "step: 17020/20000, g_loss_fake: 3.0059\n",
            "step: 17040/20000, g_loss_fake: 3.6467\n",
            "step: 17060/20000, g_loss_fake: 2.3054\n",
            "step: 17080/20000, g_loss_fake: 1.7909\n",
            "step: 17100/20000, g_loss_fake: 1.9853\n",
            "step: 17120/20000, g_loss_fake: 2.7506\n",
            "step: 17140/20000, g_loss_fake: 2.8465\n",
            "step: 17160/20000, g_loss_fake: 1.5278\n",
            "step: 17180/20000, g_loss_fake: 2.8238\n",
            "step: 17200/20000, g_loss_fake: 4.2139\n",
            "step: 17220/20000, g_loss_fake: 3.7042\n",
            "step: 17240/20000, g_loss_fake: 4.0191\n",
            "step: 17260/20000, g_loss_fake: 2.6068\n",
            "step: 17280/20000, g_loss_fake: 3.9849\n",
            "step: 17300/20000, g_loss_fake: 3.2019\n",
            "step: 17320/20000, g_loss_fake: 3.2107\n",
            "step: 17340/20000, g_loss_fake: 2.8292\n",
            "step: 17360/20000, g_loss_fake: 2.1646\n",
            "step: 17380/20000, g_loss_fake: 2.1743\n",
            "step: 17400/20000, g_loss_fake: 1.7151\n",
            "step: 17420/20000, g_loss_fake: 3.5029\n",
            "step: 17440/20000, g_loss_fake: 3.5779\n",
            "step: 17460/20000, g_loss_fake: 2.0286\n",
            "step: 17480/20000, g_loss_fake: 2.7510\n",
            "step: 17500/20000, g_loss_fake: 3.1036\n"
          ]
        },
        {
          "name": "stderr",
          "output_type": "stream",
          "text": [
            "100%|██████████| 100/100 [00:03<00:00, 32.01it/s]\n"
          ]
        },
        {
          "name": "stdout",
          "output_type": "stream",
          "text": [
            "fake inception score: 2.7994\n"
          ]
        },
        {
          "name": "stderr",
          "output_type": "stream",
          "text": []
        },
        {
          "data": {
            "application/vnd.jupyter.widget-view+json": {
              "model_id": "f15f74f7509241d08e3e98316a078a9a",
              "version_major": 2,
              "version_minor": 0
            },
            "text/plain": [
              "get_inception_feature:   0%|          | 0/50000 [00:00<?, ?it/s]"
            ]
          },
          "metadata": {},
          "output_type": "display_data"
        },
        {
          "name": "stdout",
          "output_type": "stream",
          "text": [
            "17499/20000 Inception Score: 3.712(0.02189), FID: 98.864\n",
            "step: 17520/20000, g_loss_fake: 4.1458\n",
            "step: 17540/20000, g_loss_fake: 2.1044\n",
            "step: 17560/20000, g_loss_fake: 1.7486\n",
            "step: 17580/20000, g_loss_fake: 1.8967\n",
            "step: 17600/20000, g_loss_fake: 5.3090\n",
            "step: 17620/20000, g_loss_fake: 1.7357\n",
            "step: 17640/20000, g_loss_fake: 2.2598\n",
            "step: 17660/20000, g_loss_fake: 2.0889\n",
            "step: 17680/20000, g_loss_fake: 4.3196\n",
            "step: 17700/20000, g_loss_fake: 4.3274\n",
            "step: 17720/20000, g_loss_fake: 3.4524\n",
            "step: 17740/20000, g_loss_fake: 1.4909\n",
            "step: 17760/20000, g_loss_fake: 1.6647\n",
            "step: 17780/20000, g_loss_fake: 2.4931\n",
            "step: 17800/20000, g_loss_fake: 3.5171\n",
            "step: 17820/20000, g_loss_fake: 3.1328\n",
            "step: 17840/20000, g_loss_fake: 2.9773\n",
            "step: 17860/20000, g_loss_fake: 1.9558\n",
            "step: 17880/20000, g_loss_fake: 2.5474\n",
            "step: 17900/20000, g_loss_fake: 5.2500\n",
            "step: 17920/20000, g_loss_fake: 4.1651\n",
            "step: 17940/20000, g_loss_fake: 3.6623\n",
            "step: 17960/20000, g_loss_fake: 3.1917\n",
            "step: 17980/20000, g_loss_fake: 3.2778\n",
            "step: 18000/20000, g_loss_fake: 3.5596\n"
          ]
        },
        {
          "name": "stderr",
          "output_type": "stream",
          "text": [
            "100%|██████████| 100/100 [00:03<00:00, 31.99it/s]\n"
          ]
        },
        {
          "name": "stdout",
          "output_type": "stream",
          "text": [
            "fake inception score: 3.1579\n"
          ]
        },
        {
          "name": "stderr",
          "output_type": "stream",
          "text": []
        },
        {
          "data": {
            "application/vnd.jupyter.widget-view+json": {
              "model_id": "d42bcd88eadf46faa517cd1ecc9208c6",
              "version_major": 2,
              "version_minor": 0
            },
            "text/plain": [
              "get_inception_feature:   0%|          | 0/50000 [00:00<?, ?it/s]"
            ]
          },
          "metadata": {},
          "output_type": "display_data"
        },
        {
          "name": "stdout",
          "output_type": "stream",
          "text": [
            "17999/20000 Inception Score: 3.931(0.04775), FID: 94.924\n",
            "step: 18020/20000, g_loss_fake: 3.5232\n",
            "step: 18040/20000, g_loss_fake: 1.7915\n",
            "step: 18060/20000, g_loss_fake: 7.3338\n",
            "step: 18080/20000, g_loss_fake: 3.3303\n",
            "step: 18100/20000, g_loss_fake: 5.2020\n",
            "step: 18120/20000, g_loss_fake: 2.3344\n",
            "step: 18140/20000, g_loss_fake: 1.3086\n",
            "step: 18160/20000, g_loss_fake: 2.1065\n",
            "step: 18180/20000, g_loss_fake: 4.3791\n",
            "step: 18200/20000, g_loss_fake: 2.5861\n",
            "step: 18220/20000, g_loss_fake: 3.7826\n",
            "step: 18240/20000, g_loss_fake: 3.2045\n",
            "step: 18260/20000, g_loss_fake: 1.9701\n",
            "step: 18280/20000, g_loss_fake: 1.8081\n",
            "step: 18300/20000, g_loss_fake: 2.4541\n",
            "step: 18320/20000, g_loss_fake: 3.8975\n",
            "step: 18340/20000, g_loss_fake: 2.9927\n",
            "step: 18360/20000, g_loss_fake: 2.6852\n",
            "step: 18380/20000, g_loss_fake: 1.9974\n",
            "step: 18400/20000, g_loss_fake: 2.9871\n",
            "step: 18420/20000, g_loss_fake: 2.9394\n",
            "step: 18440/20000, g_loss_fake: 2.7722\n",
            "step: 18460/20000, g_loss_fake: 3.1374\n",
            "step: 18480/20000, g_loss_fake: 2.7410\n",
            "step: 18500/20000, g_loss_fake: 3.4201\n"
          ]
        },
        {
          "name": "stderr",
          "output_type": "stream",
          "text": [
            "100%|██████████| 100/100 [00:03<00:00, 31.95it/s]\n"
          ]
        },
        {
          "name": "stdout",
          "output_type": "stream",
          "text": [
            "fake inception score: 2.8241\n"
          ]
        },
        {
          "name": "stderr",
          "output_type": "stream",
          "text": []
        },
        {
          "data": {
            "application/vnd.jupyter.widget-view+json": {
              "model_id": "97a6caa0bd6747b0bd0a778a34e2ec0c",
              "version_major": 2,
              "version_minor": 0
            },
            "text/plain": [
              "get_inception_feature:   0%|          | 0/50000 [00:00<?, ?it/s]"
            ]
          },
          "metadata": {},
          "output_type": "display_data"
        },
        {
          "name": "stdout",
          "output_type": "stream",
          "text": [
            "18499/20000 Inception Score: 3.543(0.02350), FID: 93.385\n",
            "step: 18520/20000, g_loss_fake: 1.7810\n",
            "step: 18540/20000, g_loss_fake: 4.2007\n",
            "step: 18560/20000, g_loss_fake: 1.6332\n",
            "step: 18580/20000, g_loss_fake: 8.7052\n",
            "step: 18600/20000, g_loss_fake: 2.6632\n",
            "step: 18620/20000, g_loss_fake: 1.8116\n",
            "step: 18640/20000, g_loss_fake: 4.0663\n",
            "step: 18660/20000, g_loss_fake: 2.1915\n",
            "step: 18680/20000, g_loss_fake: 1.9426\n",
            "step: 18700/20000, g_loss_fake: 2.9167\n",
            "step: 18720/20000, g_loss_fake: 3.7564\n",
            "step: 18740/20000, g_loss_fake: 3.7772\n",
            "step: 18760/20000, g_loss_fake: 2.5604\n",
            "step: 18780/20000, g_loss_fake: 3.1289\n",
            "step: 18800/20000, g_loss_fake: 2.5728\n",
            "step: 18820/20000, g_loss_fake: 4.1172\n",
            "step: 18840/20000, g_loss_fake: 2.4455\n",
            "step: 18860/20000, g_loss_fake: 1.9121\n",
            "step: 18880/20000, g_loss_fake: 3.7791\n",
            "step: 18900/20000, g_loss_fake: 2.9840\n",
            "step: 18920/20000, g_loss_fake: 5.3061\n",
            "step: 18940/20000, g_loss_fake: 3.9434\n",
            "step: 18960/20000, g_loss_fake: 5.3262\n",
            "step: 18980/20000, g_loss_fake: 3.2587\n",
            "step: 19000/20000, g_loss_fake: 5.0473\n"
          ]
        },
        {
          "name": "stderr",
          "output_type": "stream",
          "text": [
            "100%|██████████| 100/100 [00:03<00:00, 31.92it/s]\n"
          ]
        },
        {
          "name": "stdout",
          "output_type": "stream",
          "text": [
            "fake inception score: 2.8995\n"
          ]
        },
        {
          "name": "stderr",
          "output_type": "stream",
          "text": []
        },
        {
          "data": {
            "application/vnd.jupyter.widget-view+json": {
              "model_id": "36378be46b034d45a2c17c1d3c6501c2",
              "version_major": 2,
              "version_minor": 0
            },
            "text/plain": [
              "get_inception_feature:   0%|          | 0/50000 [00:00<?, ?it/s]"
            ]
          },
          "metadata": {},
          "output_type": "display_data"
        },
        {
          "name": "stdout",
          "output_type": "stream",
          "text": [
            "18999/20000 Inception Score: 3.760(0.04027), FID: 94.718\n",
            "step: 19020/20000, g_loss_fake: 3.1628\n",
            "step: 19040/20000, g_loss_fake: 2.4485\n",
            "step: 19060/20000, g_loss_fake: 1.6464\n",
            "step: 19080/20000, g_loss_fake: 2.6355\n",
            "step: 19100/20000, g_loss_fake: 3.5355\n",
            "step: 19120/20000, g_loss_fake: 4.1996\n",
            "step: 19140/20000, g_loss_fake: 2.6954\n",
            "step: 19160/20000, g_loss_fake: 4.6785\n",
            "step: 19180/20000, g_loss_fake: 2.5228\n",
            "step: 19200/20000, g_loss_fake: 1.4243\n",
            "step: 19220/20000, g_loss_fake: 1.6984\n",
            "step: 19240/20000, g_loss_fake: 2.2421\n",
            "step: 19260/20000, g_loss_fake: 1.9841\n",
            "step: 19280/20000, g_loss_fake: 3.4708\n",
            "step: 19300/20000, g_loss_fake: 2.6353\n",
            "step: 19320/20000, g_loss_fake: 2.6910\n",
            "step: 19340/20000, g_loss_fake: 6.0656\n",
            "step: 19360/20000, g_loss_fake: 4.4251\n",
            "step: 19380/20000, g_loss_fake: 4.3106\n",
            "step: 19400/20000, g_loss_fake: 2.2991\n",
            "step: 19420/20000, g_loss_fake: 3.5103\n",
            "step: 19440/20000, g_loss_fake: 3.5187\n",
            "step: 19460/20000, g_loss_fake: 3.8839\n",
            "step: 19480/20000, g_loss_fake: 3.6748\n",
            "step: 19500/20000, g_loss_fake: 4.2019\n"
          ]
        },
        {
          "name": "stderr",
          "output_type": "stream",
          "text": [
            "100%|██████████| 100/100 [00:03<00:00, 32.05it/s]\n"
          ]
        },
        {
          "name": "stdout",
          "output_type": "stream",
          "text": [
            "fake inception score: 2.8751\n"
          ]
        },
        {
          "name": "stderr",
          "output_type": "stream",
          "text": []
        },
        {
          "data": {
            "application/vnd.jupyter.widget-view+json": {
              "model_id": "f361f35d61ea4f19a342435aa5ce4991",
              "version_major": 2,
              "version_minor": 0
            },
            "text/plain": [
              "get_inception_feature:   0%|          | 0/50000 [00:00<?, ?it/s]"
            ]
          },
          "metadata": {},
          "output_type": "display_data"
        },
        {
          "name": "stdout",
          "output_type": "stream",
          "text": [
            "19499/20000 Inception Score: 3.673(0.03463), FID: 89.401\n",
            "step: 19520/20000, g_loss_fake: 5.4309\n",
            "step: 19540/20000, g_loss_fake: 2.2991\n",
            "step: 19560/20000, g_loss_fake: 2.0306\n",
            "step: 19580/20000, g_loss_fake: 1.5714\n",
            "step: 19600/20000, g_loss_fake: 2.8489\n",
            "step: 19620/20000, g_loss_fake: 1.6155\n",
            "step: 19640/20000, g_loss_fake: 4.8215\n",
            "step: 19660/20000, g_loss_fake: 2.8858\n",
            "step: 19680/20000, g_loss_fake: 4.4415\n",
            "step: 19700/20000, g_loss_fake: 2.5452\n",
            "step: 19720/20000, g_loss_fake: 3.6357\n",
            "step: 19740/20000, g_loss_fake: 3.5002\n",
            "step: 19760/20000, g_loss_fake: 4.2997\n",
            "step: 19780/20000, g_loss_fake: 4.9308\n",
            "step: 19800/20000, g_loss_fake: 3.8647\n",
            "step: 19820/20000, g_loss_fake: 3.7752\n",
            "step: 19840/20000, g_loss_fake: 2.8350\n",
            "step: 19860/20000, g_loss_fake: 2.4837\n",
            "step: 19880/20000, g_loss_fake: 2.1551\n",
            "step: 19900/20000, g_loss_fake: 2.6411\n",
            "step: 19920/20000, g_loss_fake: 2.0667\n",
            "step: 19940/20000, g_loss_fake: 1.9043\n",
            "step: 19960/20000, g_loss_fake: 2.5868\n",
            "step: 19980/20000, g_loss_fake: 3.0620\n",
            "step: 20000/20000, g_loss_fake: 3.4375\n"
          ]
        },
        {
          "name": "stderr",
          "output_type": "stream",
          "text": [
            "100%|██████████| 100/100 [00:03<00:00, 32.07it/s]\n"
          ]
        },
        {
          "name": "stdout",
          "output_type": "stream",
          "text": [
            "fake inception score: 3.0775\n"
          ]
        },
        {
          "name": "stderr",
          "output_type": "stream",
          "text": []
        },
        {
          "data": {
            "application/vnd.jupyter.widget-view+json": {
              "model_id": "1636b4d005514315bb32196926f23cf9",
              "version_major": 2,
              "version_minor": 0
            },
            "text/plain": [
              "get_inception_feature:   0%|          | 0/50000 [00:00<?, ?it/s]"
            ]
          },
          "metadata": {},
          "output_type": "display_data"
        },
        {
          "name": "stdout",
          "output_type": "stream",
          "text": [
            "19999/20000 Inception Score: 3.935(0.04130), FID: 81.760\n",
            "best inception score: 3.1579\n"
          ]
        },
        {
          "data": {
            "text/plain": [
              "<__main__.Instructor at 0x77fdd3d61a80>"
            ]
          },
          "execution_count": 11,
          "metadata": {},
          "output_type": "execute_result"
        }
      ],
      "source": [
        "ins = Instructor()\n",
        "ins.train_sagan()\n",
        "ins"
      ]
    },
    {
      "cell_type": "code",
      "execution_count": 12,
      "metadata": {
        "id": "a3kNw05LdpZL"
      },
      "outputs": [],
      "source": [
        "def show_graph(data, title, x_label, y_label):\n",
        "    import matplotlib.pyplot as plt\n",
        "    import numpy as np\n",
        "\n",
        "    # Convert input data to numpy arrays for easier manipulation\n",
        "    iterations = np.array([point[0] for point in data])\n",
        "    fid_scores = np.array([point[1] for point in data])\n",
        "\n",
        "    # Apply smoothing using a moving average\n",
        "    window_size = 5\n",
        "    smoothed_scores = np.convolve(fid_scores, np.ones(window_size)/window_size, mode='valid')\n",
        "\n",
        "    # Plot\n",
        "    plt.figure(figsize=(10, 6))\n",
        "    plt.plot(iterations[:len(smoothed_scores)], smoothed_scores, label='Smoothed FID Score', color='b', linewidth=2, alpha=0.8)\n",
        "\n",
        "    # Adding titles and labels\n",
        "    plt.title(title, fontsize=16)\n",
        "    plt.xlabel(x_label, fontsize=12)\n",
        "    plt.ylabel(y_label, fontsize=12)\n",
        "\n",
        "    # Show grid\n",
        "    plt.grid(True, linestyle='--', alpha=0.6)\n",
        "\n",
        "    # Display the plot\n",
        "    plt.tight_layout()\n",
        "    plt.show()"
      ]
    },
    {
      "cell_type": "code",
      "execution_count": 13,
      "metadata": {
        "colab": {
          "base_uri": "https://localhost:8080/",
          "height": 1112
        },
        "id": "aX9Kh23-dsMq",
        "outputId": "1113fb56-b45a-4eb9-8b4c-85e21d175416"
      },
      "outputs": [
        {
          "data": {
            "image/png": "[encoded data removed]",
            "text/plain": [
              "<Figure size 1000x600 with 1 Axes>"
            ]
          },
          "metadata": {},
          "output_type": "display_data"
        },
        {
          "data": {
            "image/png": "[encoded data removed]",
            "text/plain": [
              "<Figure size 1000x600 with 1 Axes>"
            ]
          },
          "metadata": {},
          "output_type": "display_data"
        }
      ],
      "source": [
        "show_graph(ins.get_FID(), \"FID Score Over Iterations\", \"Iteration\", \"FID Score\")\n",
        "show_graph(ins.get_IS(), \"Inception Score Over Iterations\", \"Iteration\", \"Inception Score\")"
      ]
    },
    {
      "cell_type": "code",
      "execution_count": 15,
      "metadata": {
        "colab": {
          "base_uri": "https://localhost:8080/",
          "height": 406
        },
        "id": "aNyIh7_Um65q",
        "outputId": "162c3e25-5f4c-4525-de26-ddb4597f1a62"
      },
      "outputs": [
        {
          "data": {
            "image/png": "[encoded data removed]",
            "text/plain": [
              "<Figure size 640x480 with 1 Axes>"
            ]
          },
          "metadata": {},
          "output_type": "display_data"
        }
      ],
      "source": [
        "from PIL import Image\n",
        "import matplotlib.pyplot as plt\n",
        "\n",
        "# Load the image from the uploaded file or a specific directory\n",
        "image_path = '/content/sample/1726334044403/fake_20000.png'  # Replace with the name or path of your uploaded image\n",
        "\n",
        "# Open and display the image\n",
        "img = Image.open(image_path)\n",
        "\n",
        "# Display the image using matplotlib\n",
        "plt.imshow(img)\n",
        "plt.axis('off')  # Turn off axes for a cleaner look\n",
        "plt.show()\n"
      ]
    },
    {
      "cell_type": "markdown",
      "metadata": {
        "id": "m2DW2qHIeEWU"
      },
      "source": [
        "# Conclusion\n",
        "\n",
        "The results already look quite promising. The training has been run over 20000 iterations. As in the graph we can see that FID score is decreasing and Inception score is increasing.This is a good indicator that the model is learning well.\n",
        "\n",
        "The final FID score and IS score after 20000 iterations are as following.\n",
        "Inception Score: 3.93455, FID: 81.75984029590899\n",
        "\n",
        "======================================================================================================================================================================================================="
      ]
    }
  ],
  "metadata": {
    "accelerator": "GPU",
    "colab": {
      "gpuType": "A100",
      "machine_shape": "hm",
      "provenance": []
    },
    "kernelspec": {
      "display_name": "Python 3",
      "name": "python3"
    },
    "language_info": {
      "name": "python"
    }
  },
  "nbformat": 4,
  "nbformat_minor": 0
}
